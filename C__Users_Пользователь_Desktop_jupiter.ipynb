{
 "cells": [
  {
   "cell_type": "markdown",
   "id": "b546d160",
   "metadata": {},
   "source": [
    "Описание данных\n",
    "\n",
    "**Name of the anime** - наименование аниме-продукта\n",
    "\n",
    "**Rating** - фанатская средняя оценка аниме (10-ти бальная шкала)\n",
    "\n",
    "**Ranking** - номер аниме в рейтинге (топ-2000)\n",
    "\n",
    "**Followers** - число проголосовавших за аниме фанатов\n",
    "\n",
    "**Type** - тип аниме \n",
    "\n",
    "**Episodes** - количество серий\n",
    "\n",
    "**License** - компания лицензиат\n",
    "\n",
    "**Study** - студия издатель\n",
    "\n",
    "**Genre** - жанр аниме\n",
    "\n",
    "**Demographics** - жанр аниме по демографической направленности \n",
    "\n",
    "**Age** - возростное ограничение аниме\n",
    "\n",
    "Цель: изучить аниме продукты, чтобы выявить ключевые элементы успешности аниме и заметить особености "
   ]
  },
  {
   "cell_type": "code",
   "execution_count": 4,
   "id": "aa887439",
   "metadata": {},
   "outputs": [
    {
     "data": {
      "text/html": [
       "<div>\n",
       "<style scoped>\n",
       "    .dataframe tbody tr th:only-of-type {\n",
       "        vertical-align: middle;\n",
       "    }\n",
       "\n",
       "    .dataframe tbody tr th {\n",
       "        vertical-align: top;\n",
       "    }\n",
       "\n",
       "    .dataframe thead th {\n",
       "        text-align: right;\n",
       "    }\n",
       "</style>\n",
       "<table border=\"1\" class=\"dataframe\">\n",
       "  <thead>\n",
       "    <tr style=\"text-align: right;\">\n",
       "      <th></th>\n",
       "      <th>Name of the anime</th>\n",
       "      <th>Rating</th>\n",
       "      <th>Ranking</th>\n",
       "      <th>Followers</th>\n",
       "      <th>Type</th>\n",
       "      <th>Episodes</th>\n",
       "      <th>License</th>\n",
       "      <th>Study</th>\n",
       "      <th>Genre</th>\n",
       "      <th>Demographics</th>\n",
       "      <th>Age</th>\n",
       "    </tr>\n",
       "  </thead>\n",
       "  <tbody>\n",
       "    <tr>\n",
       "      <th>0</th>\n",
       "      <td>Death Note</td>\n",
       "      <td>8.63</td>\n",
       "      <td>1</td>\n",
       "      <td>3,150,451</td>\n",
       "      <td>TV</td>\n",
       "      <td>37</td>\n",
       "      <td>VIZ Media</td>\n",
       "      <td>Madhouse</td>\n",
       "      <td>Mystery,Supernatural,Suspense</td>\n",
       "      <td>Shounen</td>\n",
       "      <td>R - 17+ (violence &amp; profanity)</td>\n",
       "    </tr>\n",
       "    <tr>\n",
       "      <th>1</th>\n",
       "      <td>Shingeki no Kyojin</td>\n",
       "      <td>8.52</td>\n",
       "      <td>2</td>\n",
       "      <td>3,136,959</td>\n",
       "      <td>TV</td>\n",
       "      <td>25</td>\n",
       "      <td>Funimation</td>\n",
       "      <td>Wit Studio</td>\n",
       "      <td>Action,Drama,Fantasy,Mystery</td>\n",
       "      <td>Shounen</td>\n",
       "      <td>R - 17+ (violence &amp; profanity)</td>\n",
       "    </tr>\n",
       "    <tr>\n",
       "      <th>2</th>\n",
       "      <td>Fullmetal Alchemist: Brotherhood</td>\n",
       "      <td>9.16</td>\n",
       "      <td>3</td>\n",
       "      <td>2,674,846</td>\n",
       "      <td>TV</td>\n",
       "      <td>64</td>\n",
       "      <td>Funimation,Aniplex of America</td>\n",
       "      <td>Bones</td>\n",
       "      <td>Action,Adventure,Comedy,Drama,Fantasy</td>\n",
       "      <td>Shounen</td>\n",
       "      <td>R - 17+ (violence &amp; profanity)</td>\n",
       "    </tr>\n",
       "    <tr>\n",
       "      <th>3</th>\n",
       "      <td>Sword Art Online</td>\n",
       "      <td>7.21</td>\n",
       "      <td>4</td>\n",
       "      <td>2,583,874</td>\n",
       "      <td>TV</td>\n",
       "      <td>25</td>\n",
       "      <td>Aniplex of America</td>\n",
       "      <td>A-1 Pictures</td>\n",
       "      <td>Action,Adventure,Fantasy,Romance</td>\n",
       "      <td>NaN</td>\n",
       "      <td>PG-13 - Teens 13 or older</td>\n",
       "    </tr>\n",
       "    <tr>\n",
       "      <th>4</th>\n",
       "      <td>One Punch Man</td>\n",
       "      <td>8.52</td>\n",
       "      <td>5</td>\n",
       "      <td>2,577,610</td>\n",
       "      <td>TV</td>\n",
       "      <td>12</td>\n",
       "      <td>VIZ Media</td>\n",
       "      <td>Madhouse</td>\n",
       "      <td>Action,Comedy,Sci-Fi,Supernatural</td>\n",
       "      <td>NaN</td>\n",
       "      <td>R - 17+ (violence &amp; profanity)</td>\n",
       "    </tr>\n",
       "  </tbody>\n",
       "</table>\n",
       "</div>"
      ],
      "text/plain": [
       "                  Name of the anime  Rating  Ranking  Followers Type Episodes  \\\n",
       "0                        Death Note    8.63        1  3,150,451   TV       37   \n",
       "1                Shingeki no Kyojin    8.52        2  3,136,959   TV       25   \n",
       "2  Fullmetal Alchemist: Brotherhood    9.16        3  2,674,846   TV       64   \n",
       "3                  Sword Art Online    7.21        4  2,583,874   TV       25   \n",
       "4                     One Punch Man    8.52        5  2,577,610   TV       12   \n",
       "\n",
       "                         License         Study  \\\n",
       "0                      VIZ Media      Madhouse   \n",
       "1                     Funimation    Wit Studio   \n",
       "2  Funimation,Aniplex of America         Bones   \n",
       "3             Aniplex of America  A-1 Pictures   \n",
       "4                      VIZ Media      Madhouse   \n",
       "\n",
       "                                   Genre Demographics  \\\n",
       "0          Mystery,Supernatural,Suspense      Shounen   \n",
       "1           Action,Drama,Fantasy,Mystery      Shounen   \n",
       "2  Action,Adventure,Comedy,Drama,Fantasy      Shounen   \n",
       "3       Action,Adventure,Fantasy,Romance          NaN   \n",
       "4      Action,Comedy,Sci-Fi,Supernatural          NaN   \n",
       "\n",
       "                              Age  \n",
       "0  R - 17+ (violence & profanity)  \n",
       "1  R - 17+ (violence & profanity)  \n",
       "2  R - 17+ (violence & profanity)  \n",
       "3       PG-13 - Teens 13 or older  \n",
       "4  R - 17+ (violence & profanity)  "
      ]
     },
     "execution_count": 4,
     "metadata": {},
     "output_type": "execute_result"
    }
   ],
   "source": [
    "import pandas as pd\n",
    "import warnings\n",
    "import numpy as np\n",
    "import scipy.stats\n",
    "\n",
    "warnings.filterwarnings('ignore')\n",
    "anime = pd.read_csv('Anime.csv')\n",
    "anime.head()"
   ]
  },
  {
   "cell_type": "markdown",
   "id": "6ccb3106",
   "metadata": {},
   "source": [
    "**Начнем с фильтрации и сортировки данных, изучим переменные и то, какого они типа:**"
   ]
  },
  {
   "cell_type": "code",
   "execution_count": 5,
   "id": "f704c950",
   "metadata": {},
   "outputs": [
    {
     "data": {
      "text/plain": [
       "Index(['Name of the anime', 'Rating', 'Ranking', 'Followers', 'Type',\n",
       "       'Episodes', 'License', 'Study', 'Genre', 'Demographics', 'Age'],\n",
       "      dtype='object')"
      ]
     },
     "execution_count": 5,
     "metadata": {},
     "output_type": "execute_result"
    }
   ],
   "source": [
    "anime.columns"
   ]
  },
  {
   "cell_type": "code",
   "execution_count": 6,
   "id": "ca34a3d8",
   "metadata": {},
   "outputs": [
    {
     "data": {
      "text/plain": [
       "(2000, 11)"
      ]
     },
     "execution_count": 6,
     "metadata": {},
     "output_type": "execute_result"
    }
   ],
   "source": [
    "anime.shape"
   ]
  },
  {
   "cell_type": "code",
   "execution_count": 7,
   "id": "7d74d3af",
   "metadata": {},
   "outputs": [
    {
     "name": "stdout",
     "output_type": "stream",
     "text": [
      "<class 'pandas.core.frame.DataFrame'>\n",
      "RangeIndex: 2000 entries, 0 to 1999\n",
      "Data columns (total 11 columns):\n",
      " #   Column             Non-Null Count  Dtype  \n",
      "---  ------             --------------  -----  \n",
      " 0   Name of the anime  2000 non-null   object \n",
      " 1   Rating             1979 non-null   float64\n",
      " 2   Ranking            2000 non-null   int64  \n",
      " 3   Followers          2000 non-null   object \n",
      " 4   Type               2000 non-null   object \n",
      " 5   Episodes           2000 non-null   object \n",
      " 6   License            2000 non-null   object \n",
      " 7   Study              2000 non-null   object \n",
      " 8   Genre              1832 non-null   object \n",
      " 9   Demographics       884 non-null    object \n",
      " 10  Age                2000 non-null   object \n",
      "dtypes: float64(1), int64(1), object(9)\n",
      "memory usage: 172.0+ KB\n"
     ]
    }
   ],
   "source": [
    "anime.info()"
   ]
  },
  {
   "cell_type": "code",
   "execution_count": 8,
   "id": "b6b64467",
   "metadata": {},
   "outputs": [
    {
     "data": {
      "text/plain": [
       "array(['37', '25', '64', '12', '13', '220', '1', '148', '24', '26', '500',\n",
       "       '22', 'Unknown', '10', '366', '175', '51', '27', '11', '16', '23',\n",
       "       '15', '170', '291', '20', '201', '153', '102', '39', '14', '120',\n",
       "       '3', '74', '6', '43', '167', '131', '103', '4', '112', '276', '60',\n",
       "       '203', '47', '62', '75', '50', '94', '2', '70', '5', '54', '224',\n",
       "       '73', '7', '8', '46', '97', '110', '52', '101', '161', '21', '77',\n",
       "       '38', '18', '180', '127', '99', '145', '114', '192', '178', '19',\n",
       "       '61', '49', '93', '45', '191', '154', '109', '147', '150', '9',\n",
       "       '48', '78', '36', '34', '100', '69', '146', '84', '76', '40',\n",
       "       '128'], dtype=object)"
      ]
     },
     "execution_count": 8,
     "metadata": {},
     "output_type": "execute_result"
    }
   ],
   "source": [
    "anime['Episodes'].unique()"
   ]
  },
  {
   "cell_type": "code",
   "execution_count": 9,
   "id": "3a37552a",
   "metadata": {},
   "outputs": [
    {
     "data": {
      "text/plain": [
       "array(['TV', 'Movie', 'ONA', 'OVA', 'Special', 'Music', 'Unknown'],\n",
       "      dtype=object)"
      ]
     },
     "execution_count": 9,
     "metadata": {},
     "output_type": "execute_result"
    }
   ],
   "source": [
    "anime['Type'].unique()"
   ]
  },
  {
   "cell_type": "code",
   "execution_count": 10,
   "id": "508d0588",
   "metadata": {},
   "outputs": [
    {
     "data": {
      "text/plain": [
       "(1462, 11)"
      ]
     },
     "execution_count": 10,
     "metadata": {},
     "output_type": "execute_result"
    }
   ],
   "source": [
    "anime[anime['Type'] == 'TV'].shape"
   ]
  },
  {
   "cell_type": "markdown",
   "id": "91e238a2",
   "metadata": {},
   "source": [
    "**Длинными тайтлами в данном жанрке считаются многосерийные аниме от 50 эпизодов. И относящиеся к типу TV (сериал). Посмотрим сколько длинных тайтлов в нашей подборке. Переведем сначала значения в цифровые показатели** "
   ]
  },
  {
   "cell_type": "code",
   "execution_count": 11,
   "id": "8e578d0c",
   "metadata": {},
   "outputs": [],
   "source": [
    "anime['Episodes'] = pd.to_numeric(anime['Episodes'], errors='coerce')"
   ]
  },
  {
   "cell_type": "code",
   "execution_count": 12,
   "id": "604eadb8",
   "metadata": {},
   "outputs": [],
   "source": [
    "anime['Followers'] = anime['Followers'].str.replace(',','').astype(int)"
   ]
  },
  {
   "cell_type": "code",
   "execution_count": 13,
   "id": "325a999d",
   "metadata": {},
   "outputs": [],
   "source": [
    "anime['Ranking'] = anime['Ranking'].astype(int)"
   ]
  },
  {
   "cell_type": "code",
   "execution_count": 14,
   "id": "4f839c55",
   "metadata": {},
   "outputs": [
    {
     "name": "stdout",
     "output_type": "stream",
     "text": [
      "<class 'pandas.core.frame.DataFrame'>\n",
      "RangeIndex: 2000 entries, 0 to 1999\n",
      "Data columns (total 11 columns):\n",
      " #   Column             Non-Null Count  Dtype  \n",
      "---  ------             --------------  -----  \n",
      " 0   Name of the anime  2000 non-null   object \n",
      " 1   Rating             1979 non-null   float64\n",
      " 2   Ranking            2000 non-null   int32  \n",
      " 3   Followers          2000 non-null   int32  \n",
      " 4   Type               2000 non-null   object \n",
      " 5   Episodes           1975 non-null   float64\n",
      " 6   License            2000 non-null   object \n",
      " 7   Study              2000 non-null   object \n",
      " 8   Genre              1832 non-null   object \n",
      " 9   Demographics       884 non-null    object \n",
      " 10  Age                2000 non-null   object \n",
      "dtypes: float64(2), int32(2), object(7)\n",
      "memory usage: 156.4+ KB\n"
     ]
    }
   ],
   "source": [
    "anime.info()"
   ]
  },
  {
   "cell_type": "code",
   "execution_count": 15,
   "id": "818c3d62",
   "metadata": {},
   "outputs": [
    {
     "data": {
      "text/plain": [
       "(77, 11)"
      ]
     },
     "execution_count": 15,
     "metadata": {},
     "output_type": "execute_result"
    }
   ],
   "source": [
    "anime[(anime['Type'] == 'TV') & (anime['Episodes'] > 50)].shape"
   ]
  },
  {
   "cell_type": "markdown",
   "id": "733a767b",
   "metadata": {},
   "source": [
    "**Среди топ в 2000 аниме длинных многосерийников представлено 77, интересно узнать и то, какое аниме самый продолжительное - найдем гиганта**"
   ]
  },
  {
   "cell_type": "code",
   "execution_count": 16,
   "id": "481119db",
   "metadata": {},
   "outputs": [
    {
     "data": {
      "text/plain": [
       "15      500.0\n",
       "37      366.0\n",
       "94      291.0\n",
       "295     276.0\n",
       "503     224.0\n",
       "        ...  \n",
       "1744      NaN\n",
       "1776      NaN\n",
       "1880      NaN\n",
       "1893      NaN\n",
       "1925      NaN\n",
       "Name: Episodes, Length: 2000, dtype: float64"
      ]
     },
     "execution_count": 16,
     "metadata": {},
     "output_type": "execute_result"
    }
   ],
   "source": [
    "anime['Episodes'].sort_values(ascending=False)"
   ]
  },
  {
   "cell_type": "code",
   "execution_count": 17,
   "id": "99c509ed",
   "metadata": {},
   "outputs": [
    {
     "data": {
      "text/plain": [
       "Name of the anime           Naruto: Shippuuden\n",
       "Rating                                    8.22\n",
       "Ranking                                     16\n",
       "Followers                              1925747\n",
       "Type                                        TV\n",
       "Episodes                                 500.0\n",
       "License                              VIZ Media\n",
       "Study                           Studio Pierrot\n",
       "Genre                  Action,Adventure,Comedy\n",
       "Demographics                           Shounen\n",
       "Age                  PG-13 - Teens 13 or older\n",
       "Name: 15, dtype: object"
      ]
     },
     "execution_count": 17,
     "metadata": {},
     "output_type": "execute_result"
    }
   ],
   "source": [
    "anime.iloc[15]"
   ]
  },
  {
   "cell_type": "markdown",
   "id": "ce8181b3",
   "metadata": {},
   "source": [
    "Наруто Шиппуден с 500 серий - самое длинное многосерийное аниме "
   ]
  },
  {
   "cell_type": "markdown",
   "id": "8dbb056a",
   "metadata": {},
   "source": [
    "**Нам интересно изучить топ 2000 аниме одного из популярных сайтов, для того чтобы понять критерии для того, как создать популярное и интересное аниме. Для этого проанализируем жанры, студии, возраст, тип аниме-продукта. Простым способом вычислим аниме какой демографической направленности наиболее часто встречаются в топ-2000** "
   ]
  },
  {
   "cell_type": "code",
   "execution_count": 18,
   "id": "256f5483",
   "metadata": {},
   "outputs": [
    {
     "data": {
      "text/plain": [
       "array(['Shounen', nan, 'Seinen', 'Shoujo', 'Kids', 'Josei'], dtype=object)"
      ]
     },
     "execution_count": 18,
     "metadata": {},
     "output_type": "execute_result"
    }
   ],
   "source": [
    "anime['Demographics'].unique()"
   ]
  },
  {
   "cell_type": "code",
   "execution_count": 19,
   "id": "c0e26da6",
   "metadata": {},
   "outputs": [
    {
     "data": {
      "text/plain": [
       "(510, 11)"
      ]
     },
     "execution_count": 19,
     "metadata": {},
     "output_type": "execute_result"
    }
   ],
   "source": [
    "anime[anime['Demographics'] == 'Shounen'].shape"
   ]
  },
  {
   "cell_type": "code",
   "execution_count": 20,
   "id": "0e17b922",
   "metadata": {},
   "outputs": [
    {
     "data": {
      "text/plain": [
       "(218, 11)"
      ]
     },
     "execution_count": 20,
     "metadata": {},
     "output_type": "execute_result"
    }
   ],
   "source": [
    "anime[anime['Demographics'] == 'Seinen'].shape"
   ]
  },
  {
   "cell_type": "code",
   "execution_count": 21,
   "id": "2b1c778a",
   "metadata": {},
   "outputs": [
    {
     "data": {
      "text/plain": [
       "(104, 11)"
      ]
     },
     "execution_count": 21,
     "metadata": {},
     "output_type": "execute_result"
    }
   ],
   "source": [
    "anime[anime['Demographics'] == 'Shoujo'].shape"
   ]
  },
  {
   "cell_type": "code",
   "execution_count": 22,
   "id": "ae8f9679",
   "metadata": {},
   "outputs": [
    {
     "data": {
      "text/plain": [
       "(25, 11)"
      ]
     },
     "execution_count": 22,
     "metadata": {},
     "output_type": "execute_result"
    }
   ],
   "source": [
    "anime[anime['Demographics'] == 'Kids'].shape"
   ]
  },
  {
   "cell_type": "code",
   "execution_count": 23,
   "id": "2ca801db",
   "metadata": {},
   "outputs": [
    {
     "data": {
      "text/plain": [
       "(27, 11)"
      ]
     },
     "execution_count": 23,
     "metadata": {},
     "output_type": "execute_result"
    }
   ],
   "source": [
    "anime[anime['Demographics'] == 'Josei'].shape"
   ]
  },
  {
   "cell_type": "markdown",
   "id": "4504caed",
   "metadata": {},
   "source": [
    "**Часто аниме расчитано на разную целевую аудиторию, поэтому мы имеем достаточно много пустых значений, но если говорить о популярности ани ме у определеного демографического круга - лидирует Shounen (это в целом четверть от всего топ списка аниме).  Сёнэн — аниме, манга и ранобэ, рассчитанные на особую целевую аудиторию — мальчиков и юношей в возрасте от 12 до 18 лет.** "
   ]
  },
  {
   "cell_type": "markdown",
   "id": "2aafbe58",
   "metadata": {},
   "source": [
    "Создадим для удобства новую переменную - для аналитики по возрасту и демографии"
   ]
  },
  {
   "cell_type": "code",
   "execution_count": 24,
   "id": "bddab764",
   "metadata": {},
   "outputs": [
    {
     "data": {
      "text/html": [
       "<div>\n",
       "<style scoped>\n",
       "    .dataframe tbody tr th:only-of-type {\n",
       "        vertical-align: middle;\n",
       "    }\n",
       "\n",
       "    .dataframe tbody tr th {\n",
       "        vertical-align: top;\n",
       "    }\n",
       "\n",
       "    .dataframe thead th {\n",
       "        text-align: right;\n",
       "    }\n",
       "</style>\n",
       "<table border=\"1\" class=\"dataframe\">\n",
       "  <thead>\n",
       "    <tr style=\"text-align: right;\">\n",
       "      <th></th>\n",
       "      <th>Name of the anime</th>\n",
       "      <th>Rating</th>\n",
       "      <th>Ranking</th>\n",
       "      <th>Followers</th>\n",
       "      <th>Type</th>\n",
       "      <th>Episodes</th>\n",
       "      <th>License</th>\n",
       "      <th>Study</th>\n",
       "      <th>Genre</th>\n",
       "      <th>Demographics</th>\n",
       "      <th>Age</th>\n",
       "    </tr>\n",
       "  </thead>\n",
       "  <tbody>\n",
       "    <tr>\n",
       "      <th>0</th>\n",
       "      <td>Death Note</td>\n",
       "      <td>8.63</td>\n",
       "      <td>1</td>\n",
       "      <td>3150451</td>\n",
       "      <td>TV</td>\n",
       "      <td>37.0</td>\n",
       "      <td>VIZ Media</td>\n",
       "      <td>Madhouse</td>\n",
       "      <td>Mystery,Supernatural,Suspense</td>\n",
       "      <td>Shounen</td>\n",
       "      <td>R - 17+ (violence &amp; profanity)</td>\n",
       "    </tr>\n",
       "    <tr>\n",
       "      <th>1</th>\n",
       "      <td>Shingeki no Kyojin</td>\n",
       "      <td>8.52</td>\n",
       "      <td>2</td>\n",
       "      <td>3136959</td>\n",
       "      <td>TV</td>\n",
       "      <td>25.0</td>\n",
       "      <td>Funimation</td>\n",
       "      <td>Wit Studio</td>\n",
       "      <td>Action,Drama,Fantasy,Mystery</td>\n",
       "      <td>Shounen</td>\n",
       "      <td>R - 17+ (violence &amp; profanity)</td>\n",
       "    </tr>\n",
       "    <tr>\n",
       "      <th>2</th>\n",
       "      <td>Fullmetal Alchemist: Brotherhood</td>\n",
       "      <td>9.16</td>\n",
       "      <td>3</td>\n",
       "      <td>2674846</td>\n",
       "      <td>TV</td>\n",
       "      <td>64.0</td>\n",
       "      <td>Funimation,Aniplex of America</td>\n",
       "      <td>Bones</td>\n",
       "      <td>Action,Adventure,Comedy,Drama,Fantasy</td>\n",
       "      <td>Shounen</td>\n",
       "      <td>R - 17+ (violence &amp; profanity)</td>\n",
       "    </tr>\n",
       "    <tr>\n",
       "      <th>3</th>\n",
       "      <td>Sword Art Online</td>\n",
       "      <td>7.21</td>\n",
       "      <td>4</td>\n",
       "      <td>2583874</td>\n",
       "      <td>TV</td>\n",
       "      <td>25.0</td>\n",
       "      <td>Aniplex of America</td>\n",
       "      <td>A-1 Pictures</td>\n",
       "      <td>Action,Adventure,Fantasy,Romance</td>\n",
       "      <td>NaN</td>\n",
       "      <td>PG-13 - Teens 13 or older</td>\n",
       "    </tr>\n",
       "    <tr>\n",
       "      <th>4</th>\n",
       "      <td>One Punch Man</td>\n",
       "      <td>8.52</td>\n",
       "      <td>5</td>\n",
       "      <td>2577610</td>\n",
       "      <td>TV</td>\n",
       "      <td>12.0</td>\n",
       "      <td>VIZ Media</td>\n",
       "      <td>Madhouse</td>\n",
       "      <td>Action,Comedy,Sci-Fi,Supernatural</td>\n",
       "      <td>NaN</td>\n",
       "      <td>R - 17+ (violence &amp; profanity)</td>\n",
       "    </tr>\n",
       "  </tbody>\n",
       "</table>\n",
       "</div>"
      ],
      "text/plain": [
       "                  Name of the anime  Rating  Ranking  Followers Type  \\\n",
       "0                        Death Note    8.63        1    3150451   TV   \n",
       "1                Shingeki no Kyojin    8.52        2    3136959   TV   \n",
       "2  Fullmetal Alchemist: Brotherhood    9.16        3    2674846   TV   \n",
       "3                  Sword Art Online    7.21        4    2583874   TV   \n",
       "4                     One Punch Man    8.52        5    2577610   TV   \n",
       "\n",
       "   Episodes                        License         Study  \\\n",
       "0      37.0                      VIZ Media      Madhouse   \n",
       "1      25.0                     Funimation    Wit Studio   \n",
       "2      64.0  Funimation,Aniplex of America         Bones   \n",
       "3      25.0             Aniplex of America  A-1 Pictures   \n",
       "4      12.0                      VIZ Media      Madhouse   \n",
       "\n",
       "                                   Genre Demographics  \\\n",
       "0          Mystery,Supernatural,Suspense      Shounen   \n",
       "1           Action,Drama,Fantasy,Mystery      Shounen   \n",
       "2  Action,Adventure,Comedy,Drama,Fantasy      Shounen   \n",
       "3       Action,Adventure,Fantasy,Romance          NaN   \n",
       "4      Action,Comedy,Sci-Fi,Supernatural          NaN   \n",
       "\n",
       "                              Age  \n",
       "0  R - 17+ (violence & profanity)  \n",
       "1  R - 17+ (violence & profanity)  \n",
       "2  R - 17+ (violence & profanity)  \n",
       "3       PG-13 - Teens 13 or older  \n",
       "4  R - 17+ (violence & profanity)  "
      ]
     },
     "execution_count": 24,
     "metadata": {},
     "output_type": "execute_result"
    }
   ],
   "source": [
    "\n",
    "anime.head()"
   ]
  },
  {
   "cell_type": "code",
   "execution_count": 25,
   "id": "17d213dc",
   "metadata": {},
   "outputs": [
    {
     "data": {
      "text/plain": [
       "array(['R - 17+ (violence & profanity)', 'PG-13 - Teens 13 or older',\n",
       "       'R+ - Mild Nudity', 'PG - Children', 'G - All Ages', 'None',\n",
       "       'Rx - Hentai'], dtype=object)"
      ]
     },
     "execution_count": 25,
     "metadata": {},
     "output_type": "execute_result"
    }
   ],
   "source": [
    "anime['Age'].unique()"
   ]
  },
  {
   "cell_type": "code",
   "execution_count": 26,
   "id": "0e503c55",
   "metadata": {},
   "outputs": [],
   "source": [
    "def age_cat(x):\n",
    "    if x == 'R - 17+ (violence & profanity)':\n",
    "        return 1\n",
    "    elif x == 'R+ - Mild Nudity':\n",
    "        return 1\n",
    "    elif x == 'Rx - Hentai':\n",
    "        return 1\n",
    "    else:\n",
    "        return 0\n",
    "        \n",
    "    \n",
    "anime['Adult'] = anime['Age'].apply(age_cat)\n"
   ]
  },
  {
   "cell_type": "code",
   "execution_count": 27,
   "id": "d46cee87",
   "metadata": {},
   "outputs": [
    {
     "data": {
      "text/html": [
       "<div>\n",
       "<style scoped>\n",
       "    .dataframe tbody tr th:only-of-type {\n",
       "        vertical-align: middle;\n",
       "    }\n",
       "\n",
       "    .dataframe tbody tr th {\n",
       "        vertical-align: top;\n",
       "    }\n",
       "\n",
       "    .dataframe thead th {\n",
       "        text-align: right;\n",
       "    }\n",
       "</style>\n",
       "<table border=\"1\" class=\"dataframe\">\n",
       "  <thead>\n",
       "    <tr style=\"text-align: right;\">\n",
       "      <th></th>\n",
       "      <th>Name of the anime</th>\n",
       "      <th>Rating</th>\n",
       "      <th>Ranking</th>\n",
       "      <th>Followers</th>\n",
       "      <th>Type</th>\n",
       "      <th>Episodes</th>\n",
       "      <th>License</th>\n",
       "      <th>Study</th>\n",
       "      <th>Genre</th>\n",
       "      <th>Demographics</th>\n",
       "      <th>Age</th>\n",
       "      <th>Adult</th>\n",
       "    </tr>\n",
       "  </thead>\n",
       "  <tbody>\n",
       "    <tr>\n",
       "      <th>0</th>\n",
       "      <td>Death Note</td>\n",
       "      <td>8.63</td>\n",
       "      <td>1</td>\n",
       "      <td>3150451</td>\n",
       "      <td>TV</td>\n",
       "      <td>37.0</td>\n",
       "      <td>VIZ Media</td>\n",
       "      <td>Madhouse</td>\n",
       "      <td>Mystery,Supernatural,Suspense</td>\n",
       "      <td>Shounen</td>\n",
       "      <td>R - 17+ (violence &amp; profanity)</td>\n",
       "      <td>1</td>\n",
       "    </tr>\n",
       "    <tr>\n",
       "      <th>1</th>\n",
       "      <td>Shingeki no Kyojin</td>\n",
       "      <td>8.52</td>\n",
       "      <td>2</td>\n",
       "      <td>3136959</td>\n",
       "      <td>TV</td>\n",
       "      <td>25.0</td>\n",
       "      <td>Funimation</td>\n",
       "      <td>Wit Studio</td>\n",
       "      <td>Action,Drama,Fantasy,Mystery</td>\n",
       "      <td>Shounen</td>\n",
       "      <td>R - 17+ (violence &amp; profanity)</td>\n",
       "      <td>1</td>\n",
       "    </tr>\n",
       "    <tr>\n",
       "      <th>2</th>\n",
       "      <td>Fullmetal Alchemist: Brotherhood</td>\n",
       "      <td>9.16</td>\n",
       "      <td>3</td>\n",
       "      <td>2674846</td>\n",
       "      <td>TV</td>\n",
       "      <td>64.0</td>\n",
       "      <td>Funimation,Aniplex of America</td>\n",
       "      <td>Bones</td>\n",
       "      <td>Action,Adventure,Comedy,Drama,Fantasy</td>\n",
       "      <td>Shounen</td>\n",
       "      <td>R - 17+ (violence &amp; profanity)</td>\n",
       "      <td>1</td>\n",
       "    </tr>\n",
       "    <tr>\n",
       "      <th>3</th>\n",
       "      <td>Sword Art Online</td>\n",
       "      <td>7.21</td>\n",
       "      <td>4</td>\n",
       "      <td>2583874</td>\n",
       "      <td>TV</td>\n",
       "      <td>25.0</td>\n",
       "      <td>Aniplex of America</td>\n",
       "      <td>A-1 Pictures</td>\n",
       "      <td>Action,Adventure,Fantasy,Romance</td>\n",
       "      <td>NaN</td>\n",
       "      <td>PG-13 - Teens 13 or older</td>\n",
       "      <td>0</td>\n",
       "    </tr>\n",
       "    <tr>\n",
       "      <th>4</th>\n",
       "      <td>One Punch Man</td>\n",
       "      <td>8.52</td>\n",
       "      <td>5</td>\n",
       "      <td>2577610</td>\n",
       "      <td>TV</td>\n",
       "      <td>12.0</td>\n",
       "      <td>VIZ Media</td>\n",
       "      <td>Madhouse</td>\n",
       "      <td>Action,Comedy,Sci-Fi,Supernatural</td>\n",
       "      <td>NaN</td>\n",
       "      <td>R - 17+ (violence &amp; profanity)</td>\n",
       "      <td>1</td>\n",
       "    </tr>\n",
       "  </tbody>\n",
       "</table>\n",
       "</div>"
      ],
      "text/plain": [
       "                  Name of the anime  Rating  Ranking  Followers Type  \\\n",
       "0                        Death Note    8.63        1    3150451   TV   \n",
       "1                Shingeki no Kyojin    8.52        2    3136959   TV   \n",
       "2  Fullmetal Alchemist: Brotherhood    9.16        3    2674846   TV   \n",
       "3                  Sword Art Online    7.21        4    2583874   TV   \n",
       "4                     One Punch Man    8.52        5    2577610   TV   \n",
       "\n",
       "   Episodes                        License         Study  \\\n",
       "0      37.0                      VIZ Media      Madhouse   \n",
       "1      25.0                     Funimation    Wit Studio   \n",
       "2      64.0  Funimation,Aniplex of America         Bones   \n",
       "3      25.0             Aniplex of America  A-1 Pictures   \n",
       "4      12.0                      VIZ Media      Madhouse   \n",
       "\n",
       "                                   Genre Demographics  \\\n",
       "0          Mystery,Supernatural,Suspense      Shounen   \n",
       "1           Action,Drama,Fantasy,Mystery      Shounen   \n",
       "2  Action,Adventure,Comedy,Drama,Fantasy      Shounen   \n",
       "3       Action,Adventure,Fantasy,Romance          NaN   \n",
       "4      Action,Comedy,Sci-Fi,Supernatural          NaN   \n",
       "\n",
       "                              Age  Adult  \n",
       "0  R - 17+ (violence & profanity)      1  \n",
       "1  R - 17+ (violence & profanity)      1  \n",
       "2  R - 17+ (violence & profanity)      1  \n",
       "3       PG-13 - Teens 13 or older      0  \n",
       "4  R - 17+ (violence & profanity)      1  "
      ]
     },
     "execution_count": 27,
     "metadata": {},
     "output_type": "execute_result"
    }
   ],
   "source": [
    "anime.head()"
   ]
  },
  {
   "cell_type": "markdown",
   "id": "287120dc",
   "metadata": {},
   "source": [
    "**Теперь у нас есть отдельная переменная в которую мы отправили все аниме с рейтингом R - оно предназначается к просмотру исключительно для взрослой аудитории**"
   ]
  },
  {
   "cell_type": "code",
   "execution_count": 28,
   "id": "06218444",
   "metadata": {},
   "outputs": [],
   "source": [
    "def age_cat(y):\n",
    "    if y == 'Shounen':\n",
    "        return 1\n",
    "    elif y == 'Seinen':\n",
    "        return 1\n",
    "    else:\n",
    "        return 0\n",
    "        \n",
    "    \n",
    "anime['For man'] = anime['Demographics'].apply(age_cat)\n"
   ]
  },
  {
   "cell_type": "code",
   "execution_count": 29,
   "id": "8d967094",
   "metadata": {},
   "outputs": [],
   "source": [
    "def age_cat(y):\n",
    "    if y == 'Shoujo':\n",
    "        return 1\n",
    "    elif y == 'Josei':\n",
    "        return 1\n",
    "    else:\n",
    "        return 0\n",
    "        \n",
    "    \n",
    "anime['For woman'] = anime['Demographics'].apply(age_cat)\n"
   ]
  },
  {
   "cell_type": "code",
   "execution_count": 30,
   "id": "b55f4816",
   "metadata": {},
   "outputs": [
    {
     "data": {
      "text/html": [
       "<div>\n",
       "<style scoped>\n",
       "    .dataframe tbody tr th:only-of-type {\n",
       "        vertical-align: middle;\n",
       "    }\n",
       "\n",
       "    .dataframe tbody tr th {\n",
       "        vertical-align: top;\n",
       "    }\n",
       "\n",
       "    .dataframe thead th {\n",
       "        text-align: right;\n",
       "    }\n",
       "</style>\n",
       "<table border=\"1\" class=\"dataframe\">\n",
       "  <thead>\n",
       "    <tr style=\"text-align: right;\">\n",
       "      <th></th>\n",
       "      <th>Name of the anime</th>\n",
       "      <th>Rating</th>\n",
       "      <th>Ranking</th>\n",
       "      <th>Followers</th>\n",
       "      <th>Type</th>\n",
       "      <th>Episodes</th>\n",
       "      <th>License</th>\n",
       "      <th>Study</th>\n",
       "      <th>Genre</th>\n",
       "      <th>Demographics</th>\n",
       "      <th>Age</th>\n",
       "      <th>Adult</th>\n",
       "      <th>For man</th>\n",
       "      <th>For woman</th>\n",
       "    </tr>\n",
       "  </thead>\n",
       "  <tbody>\n",
       "    <tr>\n",
       "      <th>0</th>\n",
       "      <td>Death Note</td>\n",
       "      <td>8.63</td>\n",
       "      <td>1</td>\n",
       "      <td>3150451</td>\n",
       "      <td>TV</td>\n",
       "      <td>37.0</td>\n",
       "      <td>VIZ Media</td>\n",
       "      <td>Madhouse</td>\n",
       "      <td>Mystery,Supernatural,Suspense</td>\n",
       "      <td>Shounen</td>\n",
       "      <td>R - 17+ (violence &amp; profanity)</td>\n",
       "      <td>1</td>\n",
       "      <td>1</td>\n",
       "      <td>0</td>\n",
       "    </tr>\n",
       "    <tr>\n",
       "      <th>1</th>\n",
       "      <td>Shingeki no Kyojin</td>\n",
       "      <td>8.52</td>\n",
       "      <td>2</td>\n",
       "      <td>3136959</td>\n",
       "      <td>TV</td>\n",
       "      <td>25.0</td>\n",
       "      <td>Funimation</td>\n",
       "      <td>Wit Studio</td>\n",
       "      <td>Action,Drama,Fantasy,Mystery</td>\n",
       "      <td>Shounen</td>\n",
       "      <td>R - 17+ (violence &amp; profanity)</td>\n",
       "      <td>1</td>\n",
       "      <td>1</td>\n",
       "      <td>0</td>\n",
       "    </tr>\n",
       "    <tr>\n",
       "      <th>2</th>\n",
       "      <td>Fullmetal Alchemist: Brotherhood</td>\n",
       "      <td>9.16</td>\n",
       "      <td>3</td>\n",
       "      <td>2674846</td>\n",
       "      <td>TV</td>\n",
       "      <td>64.0</td>\n",
       "      <td>Funimation,Aniplex of America</td>\n",
       "      <td>Bones</td>\n",
       "      <td>Action,Adventure,Comedy,Drama,Fantasy</td>\n",
       "      <td>Shounen</td>\n",
       "      <td>R - 17+ (violence &amp; profanity)</td>\n",
       "      <td>1</td>\n",
       "      <td>1</td>\n",
       "      <td>0</td>\n",
       "    </tr>\n",
       "    <tr>\n",
       "      <th>3</th>\n",
       "      <td>Sword Art Online</td>\n",
       "      <td>7.21</td>\n",
       "      <td>4</td>\n",
       "      <td>2583874</td>\n",
       "      <td>TV</td>\n",
       "      <td>25.0</td>\n",
       "      <td>Aniplex of America</td>\n",
       "      <td>A-1 Pictures</td>\n",
       "      <td>Action,Adventure,Fantasy,Romance</td>\n",
       "      <td>NaN</td>\n",
       "      <td>PG-13 - Teens 13 or older</td>\n",
       "      <td>0</td>\n",
       "      <td>0</td>\n",
       "      <td>0</td>\n",
       "    </tr>\n",
       "    <tr>\n",
       "      <th>4</th>\n",
       "      <td>One Punch Man</td>\n",
       "      <td>8.52</td>\n",
       "      <td>5</td>\n",
       "      <td>2577610</td>\n",
       "      <td>TV</td>\n",
       "      <td>12.0</td>\n",
       "      <td>VIZ Media</td>\n",
       "      <td>Madhouse</td>\n",
       "      <td>Action,Comedy,Sci-Fi,Supernatural</td>\n",
       "      <td>NaN</td>\n",
       "      <td>R - 17+ (violence &amp; profanity)</td>\n",
       "      <td>1</td>\n",
       "      <td>0</td>\n",
       "      <td>0</td>\n",
       "    </tr>\n",
       "  </tbody>\n",
       "</table>\n",
       "</div>"
      ],
      "text/plain": [
       "                  Name of the anime  Rating  Ranking  Followers Type  \\\n",
       "0                        Death Note    8.63        1    3150451   TV   \n",
       "1                Shingeki no Kyojin    8.52        2    3136959   TV   \n",
       "2  Fullmetal Alchemist: Brotherhood    9.16        3    2674846   TV   \n",
       "3                  Sword Art Online    7.21        4    2583874   TV   \n",
       "4                     One Punch Man    8.52        5    2577610   TV   \n",
       "\n",
       "   Episodes                        License         Study  \\\n",
       "0      37.0                      VIZ Media      Madhouse   \n",
       "1      25.0                     Funimation    Wit Studio   \n",
       "2      64.0  Funimation,Aniplex of America         Bones   \n",
       "3      25.0             Aniplex of America  A-1 Pictures   \n",
       "4      12.0                      VIZ Media      Madhouse   \n",
       "\n",
       "                                   Genre Demographics  \\\n",
       "0          Mystery,Supernatural,Suspense      Shounen   \n",
       "1           Action,Drama,Fantasy,Mystery      Shounen   \n",
       "2  Action,Adventure,Comedy,Drama,Fantasy      Shounen   \n",
       "3       Action,Adventure,Fantasy,Romance          NaN   \n",
       "4      Action,Comedy,Sci-Fi,Supernatural          NaN   \n",
       "\n",
       "                              Age  Adult  For man  For woman  \n",
       "0  R - 17+ (violence & profanity)      1        1          0  \n",
       "1  R - 17+ (violence & profanity)      1        1          0  \n",
       "2  R - 17+ (violence & profanity)      1        1          0  \n",
       "3       PG-13 - Teens 13 or older      0        0          0  \n",
       "4  R - 17+ (violence & profanity)      1        0          0  "
      ]
     },
     "execution_count": 30,
     "metadata": {},
     "output_type": "execute_result"
    }
   ],
   "source": [
    "anime.head()"
   ]
  },
  {
   "cell_type": "markdown",
   "id": "84738d54",
   "metadata": {},
   "source": [
    "Так же для ряда аниме-продуктов мы ввели конкретные переменные для парней и для женщин, соединив демографические направления в которых пересекается ЦА по полу"
   ]
  },
  {
   "cell_type": "markdown",
   "id": "9c70abd4",
   "metadata": {},
   "source": [
    "**Найдем какая Студия создающая аниме наиболее часто встречается в рейтинге из 2000 мультфильмов, чтобы понять какая из студий наиболее успешна и умеет создавать Хиты. Так же изучим и лицензионные компании**"
   ]
  },
  {
   "cell_type": "code",
   "execution_count": 31,
   "id": "44982e61",
   "metadata": {},
   "outputs": [
    {
     "data": {
      "text/plain": [
       "J.C.Staff                  105\n",
       "A-1 Pictures                96\n",
       "Madhouse                    91\n",
       "Studio Deen                 65\n",
       "Toei Animation              65\n",
       "                          ... \n",
       "production doA               1\n",
       "Kamikaze Douga               1\n",
       "Gainax,       J.C.Staff      1\n",
       "OLM,       P.I.C.S.          1\n",
       "UWAN Pictures                1\n",
       "Name: Study, Length: 279, dtype: int64"
      ]
     },
     "execution_count": 31,
     "metadata": {},
     "output_type": "execute_result"
    }
   ],
   "source": [
    "anime['Study'].value_counts()"
   ]
  },
  {
   "cell_type": "code",
   "execution_count": 32,
   "id": "7d100b23",
   "metadata": {},
   "outputs": [
    {
     "data": {
      "text/plain": [
       "Funimation                                                   535\n",
       "None found                                                   409\n",
       "Sentai Filmworks                                             344\n",
       "Aniplex of America                                           156\n",
       "VIZ Media                                                     69\n",
       "                                                            ... \n",
       "VIZ Media,Warner Bros. Pictures                                1\n",
       "Sentai Filmworks,Crunchyroll                                   1\n",
       "4Kids Entertainment,Warner Bros. Pictures                      1\n",
       "ADV Films,Bandai Entertainment,Discotek Media,Crunchyroll      1\n",
       "Bandai Entertainment,Sentai Filmworks,Discotek Media           1\n",
       "Name: License, Length: 133, dtype: int64"
      ]
     },
     "execution_count": 32,
     "metadata": {},
     "output_type": "execute_result"
    }
   ],
   "source": [
    "anime['License'].value_counts()"
   ]
  },
  {
   "cell_type": "markdown",
   "id": "48aa7b89",
   "metadata": {},
   "source": [
    "Можно сказать что студии J.C.Staff, A-1 Pictures, Madhouse - как минимум одни из наиболее работоспособных (рисуют множество проектом много проектов), а Funimation, None found, Sentai Filmworks - популярные издатели. Найдем наиболее часто указанные студие в каждом из типов аниме."
   ]
  },
  {
   "cell_type": "code",
   "execution_count": 33,
   "id": "284eb850",
   "metadata": {},
   "outputs": [
    {
     "data": {
      "text/plain": [
       "Type\n",
       "Movie       Toei Animation\n",
       "Music         A-1 Pictures\n",
       "ONA        B.CMAY PICTURES\n",
       "OVA            Studio Deen\n",
       "Special    Kyoto Animation\n",
       "TV               J.C.Staff\n",
       "Unknown         None found\n",
       "Name: Study, dtype: object"
      ]
     },
     "execution_count": 33,
     "metadata": {},
     "output_type": "execute_result"
    }
   ],
   "source": [
    "anime.groupby('Type')['Study'].agg(lambda x: x.value_counts().index[0])"
   ]
  },
  {
   "cell_type": "markdown",
   "id": "d4b09384",
   "metadata": {},
   "source": [
    "Мы видим лимдеров в каждом отдельном типе аниме - например в топ 2000 аниме студия J.C.Staff встречается наиболее часто среди TV  и лидирует по числу проектов в сегменте. Можно уточнить и то, какая размерность по количеству серий в аниме наиболее популярна анимационных студий"
   ]
  },
  {
   "cell_type": "code",
   "execution_count": 34,
   "id": "3bf2e987",
   "metadata": {},
   "outputs": [
    {
     "data": {
      "text/plain": [
       "12.0     667\n",
       "1.0      388\n",
       "13.0     243\n",
       "24.0     116\n",
       "26.0      95\n",
       "        ... \n",
       "73.0       1\n",
       "46.0       1\n",
       "97.0       1\n",
       "110.0      1\n",
       "128.0      1\n",
       "Name: Episodes, Length: 94, dtype: int64"
      ]
     },
     "execution_count": 34,
     "metadata": {},
     "output_type": "execute_result"
    }
   ],
   "source": [
    "anime['Episodes'].value_counts()"
   ]
  },
  {
   "cell_type": "markdown",
   "id": "77775858",
   "metadata": {},
   "source": [
    "12-ти серийные аниме - наиболее распространенный размер аниме у студий"
   ]
  },
  {
   "cell_type": "markdown",
   "id": "14f1d42f",
   "metadata": {},
   "source": [
    "**Изучим на какую целевую аудиторию рассчитаны проекты для взрослых по полу:**"
   ]
  },
  {
   "cell_type": "code",
   "execution_count": 35,
   "id": "bc5d8f3a",
   "metadata": {},
   "outputs": [
    {
     "data": {
      "text/plain": [
       "PG-13 - Teens 13 or older         1288\n",
       "R - 17+ (violence & profanity)     455\n",
       "R+ - Mild Nudity                   180\n",
       "PG - Children                       39\n",
       "G - All Ages                        31\n",
       "None                                 6\n",
       "Rx - Hentai                          1\n",
       "Name: Age, dtype: int64"
      ]
     },
     "execution_count": 35,
     "metadata": {},
     "output_type": "execute_result"
    }
   ],
   "source": [
    "anime['Age'].value_counts()"
   ]
  },
  {
   "cell_type": "code",
   "execution_count": 36,
   "id": "0832fcb1",
   "metadata": {},
   "outputs": [
    {
     "data": {
      "text/plain": [
       "Age\n",
       "G - All Ages                        6\n",
       "None                                2\n",
       "PG - Children                       3\n",
       "PG-13 - Teens 13 or older         481\n",
       "R - 17+ (violence & profanity)    164\n",
       "R+ - Mild Nudity                   72\n",
       "Rx - Hentai                         0\n",
       "Name: For man, dtype: int64"
      ]
     },
     "execution_count": 36,
     "metadata": {},
     "output_type": "execute_result"
    }
   ],
   "source": [
    "anime.groupby('Age')['For man'].sum()"
   ]
  },
  {
   "cell_type": "code",
   "execution_count": 37,
   "id": "19ef334d",
   "metadata": {},
   "outputs": [
    {
     "data": {
      "text/plain": [
       "Age\n",
       "G - All Ages                        5\n",
       "None                                0\n",
       "PG - Children                       6\n",
       "PG-13 - Teens 13 or older         107\n",
       "R - 17+ (violence & profanity)     10\n",
       "R+ - Mild Nudity                    3\n",
       "Rx - Hentai                         0\n",
       "Name: For woman, dtype: int64"
      ]
     },
     "execution_count": 37,
     "metadata": {},
     "output_type": "execute_result"
    }
   ],
   "source": [
    "anime.groupby('Age')['For woman'].sum()"
   ]
  },
  {
   "cell_type": "markdown",
   "id": "24337ce0",
   "metadata": {},
   "source": [
    "Получается, что проекты для взрослых в основном направлены на мужскую аудиторию"
   ]
  },
  {
   "cell_type": "code",
   "execution_count": 38,
   "id": "d96ab53e",
   "metadata": {},
   "outputs": [
    {
     "data": {
      "text/plain": [
       "Age                             Type   \n",
       "G - All Ages                    Movie       144.12\n",
       "                                Music         8.32\n",
       "                                OVA           7.31\n",
       "                                TV           84.52\n",
       "None                            Movie         7.11\n",
       "                                TV           13.54\n",
       "PG - Children                   Movie       140.63\n",
       "                                Special       7.74\n",
       "                                TV          137.81\n",
       "PG-13 - Teens 13 or older       Movie      1170.88\n",
       "                                ONA         251.53\n",
       "                                OVA         546.54\n",
       "                                Special     522.31\n",
       "                                TV         7066.57\n",
       "                                Unknown       0.00\n",
       "R - 17+ (violence & profanity)  Movie       403.03\n",
       "                                ONA          95.07\n",
       "                                OVA         212.23\n",
       "                                Special      97.06\n",
       "                                TV         2571.11\n",
       "R+ - Mild Nudity                Movie       180.66\n",
       "                                ONA          14.36\n",
       "                                OVA         200.54\n",
       "                                Special      44.51\n",
       "                                TV          836.65\n",
       "Rx - Hentai                     OVA           4.27\n",
       "Name: Rating, dtype: float64"
      ]
     },
     "execution_count": 38,
     "metadata": {},
     "output_type": "execute_result"
    }
   ],
   "source": [
    "anime.groupby(['Age','Type'])['Rating'].sum()"
   ]
  },
  {
   "cell_type": "code",
   "execution_count": 39,
   "id": "15f2d895",
   "metadata": {},
   "outputs": [
    {
     "data": {
      "text/plain": [
       "<AxesSubplot:>"
      ]
     },
     "execution_count": 39,
     "metadata": {},
     "output_type": "execute_result"
    },
    {
     "data": {
      "image/png": "[encoded data removed]",
      "text/plain": [
       "<Figure size 640x480 with 1 Axes>"
      ]
     },
     "metadata": {},
     "output_type": "display_data"
    }
   ],
   "source": [
    "anime['Type'].value_counts().plot(kind='bar')"
   ]
  },
  {
   "cell_type": "markdown",
   "id": "22dede37",
   "metadata": {},
   "source": [
    "**Посмотрим на взаимосвязь жанров и выбора формата аниме, а так же какие аниме по жанрам и формату предпочтительнее зрителем (ведь входят в топ)**"
   ]
  },
  {
   "cell_type": "code",
   "execution_count": 40,
   "id": "75f98e20",
   "metadata": {},
   "outputs": [
    {
     "data": {
      "text/html": [
       "<div>\n",
       "<style scoped>\n",
       "    .dataframe tbody tr th:only-of-type {\n",
       "        vertical-align: middle;\n",
       "    }\n",
       "\n",
       "    .dataframe tbody tr th {\n",
       "        vertical-align: top;\n",
       "    }\n",
       "\n",
       "    .dataframe thead th {\n",
       "        text-align: right;\n",
       "    }\n",
       "</style>\n",
       "<table border=\"1\" class=\"dataframe\">\n",
       "  <thead>\n",
       "    <tr style=\"text-align: right;\">\n",
       "      <th>Demographics</th>\n",
       "      <th>Josei</th>\n",
       "      <th>Kids</th>\n",
       "      <th>Seinen</th>\n",
       "      <th>Shoujo</th>\n",
       "      <th>Shounen</th>\n",
       "    </tr>\n",
       "    <tr>\n",
       "      <th>Type</th>\n",
       "      <th></th>\n",
       "      <th></th>\n",
       "      <th></th>\n",
       "      <th></th>\n",
       "      <th></th>\n",
       "    </tr>\n",
       "  </thead>\n",
       "  <tbody>\n",
       "    <tr>\n",
       "      <th>Movie</th>\n",
       "      <td>NaN</td>\n",
       "      <td>14.0</td>\n",
       "      <td>14.0</td>\n",
       "      <td>6.0</td>\n",
       "      <td>73.0</td>\n",
       "    </tr>\n",
       "    <tr>\n",
       "      <th>ONA</th>\n",
       "      <td>NaN</td>\n",
       "      <td>NaN</td>\n",
       "      <td>3.0</td>\n",
       "      <td>2.0</td>\n",
       "      <td>4.0</td>\n",
       "    </tr>\n",
       "    <tr>\n",
       "      <th>OVA</th>\n",
       "      <td>NaN</td>\n",
       "      <td>NaN</td>\n",
       "      <td>13.0</td>\n",
       "      <td>7.0</td>\n",
       "      <td>50.0</td>\n",
       "    </tr>\n",
       "    <tr>\n",
       "      <th>Special</th>\n",
       "      <td>NaN</td>\n",
       "      <td>1.0</td>\n",
       "      <td>7.0</td>\n",
       "      <td>3.0</td>\n",
       "      <td>28.0</td>\n",
       "    </tr>\n",
       "    <tr>\n",
       "      <th>TV</th>\n",
       "      <td>27.0</td>\n",
       "      <td>10.0</td>\n",
       "      <td>181.0</td>\n",
       "      <td>86.0</td>\n",
       "      <td>354.0</td>\n",
       "    </tr>\n",
       "    <tr>\n",
       "      <th>Unknown</th>\n",
       "      <td>NaN</td>\n",
       "      <td>NaN</td>\n",
       "      <td>NaN</td>\n",
       "      <td>NaN</td>\n",
       "      <td>1.0</td>\n",
       "    </tr>\n",
       "  </tbody>\n",
       "</table>\n",
       "</div>"
      ],
      "text/plain": [
       "Demographics  Josei  Kids  Seinen  Shoujo  Shounen\n",
       "Type                                              \n",
       "Movie           NaN  14.0    14.0     6.0     73.0\n",
       "ONA             NaN   NaN     3.0     2.0      4.0\n",
       "OVA             NaN   NaN    13.0     7.0     50.0\n",
       "Special         NaN   1.0     7.0     3.0     28.0\n",
       "TV             27.0  10.0   181.0    86.0    354.0\n",
       "Unknown         NaN   NaN     NaN     NaN      1.0"
      ]
     },
     "execution_count": 40,
     "metadata": {},
     "output_type": "execute_result"
    }
   ],
   "source": [
    "anime.groupby('Type')['Demographics'].value_counts().unstack()"
   ]
  },
  {
   "cell_type": "code",
   "execution_count": 41,
   "id": "3fb551bd",
   "metadata": {},
   "outputs": [
    {
     "data": {
      "text/plain": [
       "<AxesSubplot:xlabel='Type'>"
      ]
     },
     "execution_count": 41,
     "metadata": {},
     "output_type": "execute_result"
    },
    {
     "data": {
      "image/png": "[encoded data removed]",
      "text/plain": [
       "<Figure size 640x480 with 1 Axes>"
      ]
     },
     "metadata": {},
     "output_type": "display_data"
    }
   ],
   "source": [
    "anime.groupby('Type')['Demographics'].value_counts().unstack().plot(kind='bar',stacked=True)"
   ]
  },
  {
   "cell_type": "markdown",
   "id": "9632e641",
   "metadata": {},
   "source": [
    "Сенен как жанр - остается наиболее популярен по почти для каждой платформы, но лидирует в формате ТВ"
   ]
  },
  {
   "cell_type": "code",
   "execution_count": 42,
   "id": "b2bdaad4",
   "metadata": {},
   "outputs": [
    {
     "data": {
      "text/html": [
       "<div>\n",
       "<style scoped>\n",
       "    .dataframe tbody tr th:only-of-type {\n",
       "        vertical-align: middle;\n",
       "    }\n",
       "\n",
       "    .dataframe tbody tr th {\n",
       "        vertical-align: top;\n",
       "    }\n",
       "\n",
       "    .dataframe thead th {\n",
       "        text-align: right;\n",
       "    }\n",
       "</style>\n",
       "<table border=\"1\" class=\"dataframe\">\n",
       "  <thead>\n",
       "    <tr style=\"text-align: right;\">\n",
       "      <th></th>\n",
       "      <th>Name of the anime</th>\n",
       "      <th>Rating</th>\n",
       "      <th>Ranking</th>\n",
       "      <th>Followers</th>\n",
       "      <th>Type</th>\n",
       "      <th>Episodes</th>\n",
       "      <th>License</th>\n",
       "      <th>Study</th>\n",
       "      <th>Genre</th>\n",
       "      <th>Demographics</th>\n",
       "      <th>Age</th>\n",
       "      <th>Adult</th>\n",
       "      <th>For man</th>\n",
       "      <th>For woman</th>\n",
       "    </tr>\n",
       "  </thead>\n",
       "  <tbody>\n",
       "    <tr>\n",
       "      <th>0</th>\n",
       "      <td>Death Note</td>\n",
       "      <td>8.63</td>\n",
       "      <td>1</td>\n",
       "      <td>3150451</td>\n",
       "      <td>TV</td>\n",
       "      <td>37.0</td>\n",
       "      <td>VIZ Media</td>\n",
       "      <td>Madhouse</td>\n",
       "      <td>Mystery,Supernatural,Suspense</td>\n",
       "      <td>Shounen</td>\n",
       "      <td>R - 17+ (violence &amp; profanity)</td>\n",
       "      <td>1</td>\n",
       "      <td>1</td>\n",
       "      <td>0</td>\n",
       "    </tr>\n",
       "    <tr>\n",
       "      <th>1</th>\n",
       "      <td>Shingeki no Kyojin</td>\n",
       "      <td>8.52</td>\n",
       "      <td>2</td>\n",
       "      <td>3136959</td>\n",
       "      <td>TV</td>\n",
       "      <td>25.0</td>\n",
       "      <td>Funimation</td>\n",
       "      <td>Wit Studio</td>\n",
       "      <td>Action,Drama,Fantasy,Mystery</td>\n",
       "      <td>Shounen</td>\n",
       "      <td>R - 17+ (violence &amp; profanity)</td>\n",
       "      <td>1</td>\n",
       "      <td>1</td>\n",
       "      <td>0</td>\n",
       "    </tr>\n",
       "    <tr>\n",
       "      <th>2</th>\n",
       "      <td>Fullmetal Alchemist: Brotherhood</td>\n",
       "      <td>9.16</td>\n",
       "      <td>3</td>\n",
       "      <td>2674846</td>\n",
       "      <td>TV</td>\n",
       "      <td>64.0</td>\n",
       "      <td>Funimation,Aniplex of America</td>\n",
       "      <td>Bones</td>\n",
       "      <td>Action,Adventure,Comedy,Drama,Fantasy</td>\n",
       "      <td>Shounen</td>\n",
       "      <td>R - 17+ (violence &amp; profanity)</td>\n",
       "      <td>1</td>\n",
       "      <td>1</td>\n",
       "      <td>0</td>\n",
       "    </tr>\n",
       "    <tr>\n",
       "      <th>3</th>\n",
       "      <td>Sword Art Online</td>\n",
       "      <td>7.21</td>\n",
       "      <td>4</td>\n",
       "      <td>2583874</td>\n",
       "      <td>TV</td>\n",
       "      <td>25.0</td>\n",
       "      <td>Aniplex of America</td>\n",
       "      <td>A-1 Pictures</td>\n",
       "      <td>Action,Adventure,Fantasy,Romance</td>\n",
       "      <td>NaN</td>\n",
       "      <td>PG-13 - Teens 13 or older</td>\n",
       "      <td>0</td>\n",
       "      <td>0</td>\n",
       "      <td>0</td>\n",
       "    </tr>\n",
       "    <tr>\n",
       "      <th>4</th>\n",
       "      <td>One Punch Man</td>\n",
       "      <td>8.52</td>\n",
       "      <td>5</td>\n",
       "      <td>2577610</td>\n",
       "      <td>TV</td>\n",
       "      <td>12.0</td>\n",
       "      <td>VIZ Media</td>\n",
       "      <td>Madhouse</td>\n",
       "      <td>Action,Comedy,Sci-Fi,Supernatural</td>\n",
       "      <td>NaN</td>\n",
       "      <td>R - 17+ (violence &amp; profanity)</td>\n",
       "      <td>1</td>\n",
       "      <td>0</td>\n",
       "      <td>0</td>\n",
       "    </tr>\n",
       "  </tbody>\n",
       "</table>\n",
       "</div>"
      ],
      "text/plain": [
       "                  Name of the anime  Rating  Ranking  Followers Type  \\\n",
       "0                        Death Note    8.63        1    3150451   TV   \n",
       "1                Shingeki no Kyojin    8.52        2    3136959   TV   \n",
       "2  Fullmetal Alchemist: Brotherhood    9.16        3    2674846   TV   \n",
       "3                  Sword Art Online    7.21        4    2583874   TV   \n",
       "4                     One Punch Man    8.52        5    2577610   TV   \n",
       "\n",
       "   Episodes                        License         Study  \\\n",
       "0      37.0                      VIZ Media      Madhouse   \n",
       "1      25.0                     Funimation    Wit Studio   \n",
       "2      64.0  Funimation,Aniplex of America         Bones   \n",
       "3      25.0             Aniplex of America  A-1 Pictures   \n",
       "4      12.0                      VIZ Media      Madhouse   \n",
       "\n",
       "                                   Genre Demographics  \\\n",
       "0          Mystery,Supernatural,Suspense      Shounen   \n",
       "1           Action,Drama,Fantasy,Mystery      Shounen   \n",
       "2  Action,Adventure,Comedy,Drama,Fantasy      Shounen   \n",
       "3       Action,Adventure,Fantasy,Romance          NaN   \n",
       "4      Action,Comedy,Sci-Fi,Supernatural          NaN   \n",
       "\n",
       "                              Age  Adult  For man  For woman  \n",
       "0  R - 17+ (violence & profanity)      1        1          0  \n",
       "1  R - 17+ (violence & profanity)      1        1          0  \n",
       "2  R - 17+ (violence & profanity)      1        1          0  \n",
       "3       PG-13 - Teens 13 or older      0        0          0  \n",
       "4  R - 17+ (violence & profanity)      1        0          0  "
      ]
     },
     "execution_count": 42,
     "metadata": {},
     "output_type": "execute_result"
    }
   ],
   "source": [
    "anime.head()"
   ]
  },
  {
   "cell_type": "markdown",
   "id": "54db0c72",
   "metadata": {},
   "source": [
    "**Узнаем какое среднее значение рейтинга имеют аниме входящие в Топ-2000, а так же аниме с самым большим и маленьким рейтингом**"
   ]
  },
  {
   "cell_type": "code",
   "execution_count": 43,
   "id": "e608279b",
   "metadata": {},
   "outputs": [
    {
     "data": {
      "text/plain": [
       "7.462566953006558"
      ]
     },
     "execution_count": 43,
     "metadata": {},
     "output_type": "execute_result"
    }
   ],
   "source": [
    "anime['Rating'].mean()"
   ]
  },
  {
   "cell_type": "code",
   "execution_count": 44,
   "id": "b7e1641b",
   "metadata": {},
   "outputs": [
    {
     "data": {
      "text/plain": [
       "7.47"
      ]
     },
     "execution_count": 44,
     "metadata": {},
     "output_type": "execute_result"
    }
   ],
   "source": [
    "anime['Rating'].median()"
   ]
  },
  {
   "cell_type": "code",
   "execution_count": 45,
   "id": "75786627",
   "metadata": {},
   "outputs": [
    {
     "data": {
      "text/plain": [
       "0    7.33\n",
       "Name: Rating, dtype: float64"
      ]
     },
     "execution_count": 45,
     "metadata": {},
     "output_type": "execute_result"
    }
   ],
   "source": [
    "anime['Rating'].mode()"
   ]
  },
  {
   "cell_type": "code",
   "execution_count": 46,
   "id": "16187564",
   "metadata": {},
   "outputs": [
    {
     "data": {
      "text/plain": [
       "<AxesSubplot:>"
      ]
     },
     "execution_count": 46,
     "metadata": {},
     "output_type": "execute_result"
    },
    {
     "data": {
      "image/png": "[encoded data removed]",
      "text/plain": [
       "<Figure size 640x480 with 1 Axes>"
      ]
     },
     "metadata": {},
     "output_type": "display_data"
    }
   ],
   "source": [
    "anime['Rating'].hist()"
   ]
  },
  {
   "cell_type": "markdown",
   "id": "f740a772",
   "metadata": {},
   "source": [
    "Заметим что значительное количество резюме в рейтинге 2000 находится между 7 и 8 баллами рейтинга, а так же много проектов с оценкой выше 9"
   ]
  },
  {
   "cell_type": "code",
   "execution_count": 47,
   "id": "4524f261",
   "metadata": {},
   "outputs": [
    {
     "data": {
      "text/html": [
       "<div>\n",
       "<style scoped>\n",
       "    .dataframe tbody tr th:only-of-type {\n",
       "        vertical-align: middle;\n",
       "    }\n",
       "\n",
       "    .dataframe tbody tr th {\n",
       "        vertical-align: top;\n",
       "    }\n",
       "\n",
       "    .dataframe thead th {\n",
       "        text-align: right;\n",
       "    }\n",
       "</style>\n",
       "<table border=\"1\" class=\"dataframe\">\n",
       "  <thead>\n",
       "    <tr style=\"text-align: right;\">\n",
       "      <th></th>\n",
       "      <th>Rating</th>\n",
       "      <th>Ranking</th>\n",
       "      <th>Followers</th>\n",
       "      <th>Episodes</th>\n",
       "      <th>Adult</th>\n",
       "      <th>For man</th>\n",
       "      <th>For woman</th>\n",
       "    </tr>\n",
       "  </thead>\n",
       "  <tbody>\n",
       "    <tr>\n",
       "      <th>count</th>\n",
       "      <td>1979.000000</td>\n",
       "      <td>2000.000000</td>\n",
       "      <td>2.000000e+03</td>\n",
       "      <td>1975.000000</td>\n",
       "      <td>2000.000000</td>\n",
       "      <td>2000.000000</td>\n",
       "      <td>2000.000000</td>\n",
       "    </tr>\n",
       "    <tr>\n",
       "      <th>mean</th>\n",
       "      <td>7.462567</td>\n",
       "      <td>1000.500000</td>\n",
       "      <td>3.073250e+05</td>\n",
       "      <td>16.135190</td>\n",
       "      <td>0.318000</td>\n",
       "      <td>0.364000</td>\n",
       "      <td>0.065500</td>\n",
       "    </tr>\n",
       "    <tr>\n",
       "      <th>std</th>\n",
       "      <td>0.677055</td>\n",
       "      <td>577.494589</td>\n",
       "      <td>3.512699e+05</td>\n",
       "      <td>26.458671</td>\n",
       "      <td>0.465816</td>\n",
       "      <td>0.481269</td>\n",
       "      <td>0.247468</td>\n",
       "    </tr>\n",
       "    <tr>\n",
       "      <th>min</th>\n",
       "      <td>3.340000</td>\n",
       "      <td>1.000000</td>\n",
       "      <td>7.244300e+04</td>\n",
       "      <td>1.000000</td>\n",
       "      <td>0.000000</td>\n",
       "      <td>0.000000</td>\n",
       "      <td>0.000000</td>\n",
       "    </tr>\n",
       "    <tr>\n",
       "      <th>25%</th>\n",
       "      <td>7.090000</td>\n",
       "      <td>500.750000</td>\n",
       "      <td>1.097425e+05</td>\n",
       "      <td>7.000000</td>\n",
       "      <td>0.000000</td>\n",
       "      <td>0.000000</td>\n",
       "      <td>0.000000</td>\n",
       "    </tr>\n",
       "    <tr>\n",
       "      <th>50%</th>\n",
       "      <td>7.470000</td>\n",
       "      <td>1000.500000</td>\n",
       "      <td>1.764125e+05</td>\n",
       "      <td>12.000000</td>\n",
       "      <td>0.000000</td>\n",
       "      <td>0.000000</td>\n",
       "      <td>0.000000</td>\n",
       "    </tr>\n",
       "    <tr>\n",
       "      <th>75%</th>\n",
       "      <td>7.925000</td>\n",
       "      <td>1500.250000</td>\n",
       "      <td>3.375495e+05</td>\n",
       "      <td>13.000000</td>\n",
       "      <td>1.000000</td>\n",
       "      <td>1.000000</td>\n",
       "      <td>0.000000</td>\n",
       "    </tr>\n",
       "    <tr>\n",
       "      <th>max</th>\n",
       "      <td>9.160000</td>\n",
       "      <td>2000.000000</td>\n",
       "      <td>3.150451e+06</td>\n",
       "      <td>500.000000</td>\n",
       "      <td>1.000000</td>\n",
       "      <td>1.000000</td>\n",
       "      <td>1.000000</td>\n",
       "    </tr>\n",
       "  </tbody>\n",
       "</table>\n",
       "</div>"
      ],
      "text/plain": [
       "            Rating      Ranking     Followers     Episodes        Adult  \\\n",
       "count  1979.000000  2000.000000  2.000000e+03  1975.000000  2000.000000   \n",
       "mean      7.462567  1000.500000  3.073250e+05    16.135190     0.318000   \n",
       "std       0.677055   577.494589  3.512699e+05    26.458671     0.465816   \n",
       "min       3.340000     1.000000  7.244300e+04     1.000000     0.000000   \n",
       "25%       7.090000   500.750000  1.097425e+05     7.000000     0.000000   \n",
       "50%       7.470000  1000.500000  1.764125e+05    12.000000     0.000000   \n",
       "75%       7.925000  1500.250000  3.375495e+05    13.000000     1.000000   \n",
       "max       9.160000  2000.000000  3.150451e+06   500.000000     1.000000   \n",
       "\n",
       "           For man    For woman  \n",
       "count  2000.000000  2000.000000  \n",
       "mean      0.364000     0.065500  \n",
       "std       0.481269     0.247468  \n",
       "min       0.000000     0.000000  \n",
       "25%       0.000000     0.000000  \n",
       "50%       0.000000     0.000000  \n",
       "75%       1.000000     0.000000  \n",
       "max       1.000000     1.000000  "
      ]
     },
     "execution_count": 47,
     "metadata": {},
     "output_type": "execute_result"
    }
   ],
   "source": [
    "anime.describe()"
   ]
  },
  {
   "cell_type": "code",
   "execution_count": 48,
   "id": "4620353f",
   "metadata": {},
   "outputs": [
    {
     "data": {
      "text/html": [
       "<div>\n",
       "<style scoped>\n",
       "    .dataframe tbody tr th:only-of-type {\n",
       "        vertical-align: middle;\n",
       "    }\n",
       "\n",
       "    .dataframe tbody tr th {\n",
       "        vertical-align: top;\n",
       "    }\n",
       "\n",
       "    .dataframe thead th {\n",
       "        text-align: right;\n",
       "    }\n",
       "</style>\n",
       "<table border=\"1\" class=\"dataframe\">\n",
       "  <thead>\n",
       "    <tr style=\"text-align: right;\">\n",
       "      <th></th>\n",
       "      <th>Name of the anime</th>\n",
       "      <th>Rating</th>\n",
       "      <th>Ranking</th>\n",
       "      <th>Followers</th>\n",
       "      <th>Type</th>\n",
       "      <th>Episodes</th>\n",
       "      <th>License</th>\n",
       "      <th>Study</th>\n",
       "      <th>Genre</th>\n",
       "      <th>Demographics</th>\n",
       "      <th>Age</th>\n",
       "      <th>Adult</th>\n",
       "      <th>For man</th>\n",
       "      <th>For woman</th>\n",
       "    </tr>\n",
       "  </thead>\n",
       "  <tbody>\n",
       "    <tr>\n",
       "      <th>2</th>\n",
       "      <td>Fullmetal Alchemist: Brotherhood</td>\n",
       "      <td>9.16</td>\n",
       "      <td>3</td>\n",
       "      <td>2674846</td>\n",
       "      <td>TV</td>\n",
       "      <td>64.0</td>\n",
       "      <td>Funimation,Aniplex of America</td>\n",
       "      <td>Bones</td>\n",
       "      <td>Action,Adventure,Comedy,Drama,Fantasy</td>\n",
       "      <td>Shounen</td>\n",
       "      <td>R - 17+ (violence &amp; profanity)</td>\n",
       "      <td>1</td>\n",
       "      <td>1</td>\n",
       "      <td>0</td>\n",
       "    </tr>\n",
       "  </tbody>\n",
       "</table>\n",
       "</div>"
      ],
      "text/plain": [
       "                  Name of the anime  Rating  Ranking  Followers Type  \\\n",
       "2  Fullmetal Alchemist: Brotherhood    9.16        3    2674846   TV   \n",
       "\n",
       "   Episodes                        License  Study  \\\n",
       "2      64.0  Funimation,Aniplex of America  Bones   \n",
       "\n",
       "                                   Genre Demographics  \\\n",
       "2  Action,Adventure,Comedy,Drama,Fantasy      Shounen   \n",
       "\n",
       "                              Age  Adult  For man  For woman  \n",
       "2  R - 17+ (violence & profanity)      1        1          0  "
      ]
     },
     "execution_count": 48,
     "metadata": {},
     "output_type": "execute_result"
    }
   ],
   "source": [
    "anime[anime['Rating'] == 9.16 ]"
   ]
  },
  {
   "cell_type": "code",
   "execution_count": 49,
   "id": "31ded825",
   "metadata": {},
   "outputs": [
    {
     "data": {
      "text/html": [
       "<div>\n",
       "<style scoped>\n",
       "    .dataframe tbody tr th:only-of-type {\n",
       "        vertical-align: middle;\n",
       "    }\n",
       "\n",
       "    .dataframe tbody tr th {\n",
       "        vertical-align: top;\n",
       "    }\n",
       "\n",
       "    .dataframe thead th {\n",
       "        text-align: right;\n",
       "    }\n",
       "</style>\n",
       "<table border=\"1\" class=\"dataframe\">\n",
       "  <thead>\n",
       "    <tr style=\"text-align: right;\">\n",
       "      <th></th>\n",
       "      <th>Name of the anime</th>\n",
       "      <th>Rating</th>\n",
       "      <th>Ranking</th>\n",
       "      <th>Followers</th>\n",
       "      <th>Type</th>\n",
       "      <th>Episodes</th>\n",
       "      <th>License</th>\n",
       "      <th>Study</th>\n",
       "      <th>Genre</th>\n",
       "      <th>Demographics</th>\n",
       "      <th>Age</th>\n",
       "      <th>Adult</th>\n",
       "      <th>For man</th>\n",
       "      <th>For woman</th>\n",
       "    </tr>\n",
       "  </thead>\n",
       "  <tbody>\n",
       "    <tr>\n",
       "      <th>1059</th>\n",
       "      <td>Pupa</td>\n",
       "      <td>3.34</td>\n",
       "      <td>1060</td>\n",
       "      <td>166001</td>\n",
       "      <td>TV</td>\n",
       "      <td>12.0</td>\n",
       "      <td>None found</td>\n",
       "      <td>Studio Deen</td>\n",
       "      <td>Fantasy,Horror</td>\n",
       "      <td>NaN</td>\n",
       "      <td>R - 17+ (violence &amp; profanity)</td>\n",
       "      <td>1</td>\n",
       "      <td>0</td>\n",
       "      <td>0</td>\n",
       "    </tr>\n",
       "  </tbody>\n",
       "</table>\n",
       "</div>"
      ],
      "text/plain": [
       "     Name of the anime  Rating  Ranking  Followers Type  Episodes     License  \\\n",
       "1059              Pupa    3.34     1060     166001   TV      12.0  None found   \n",
       "\n",
       "            Study           Genre Demographics  \\\n",
       "1059  Studio Deen  Fantasy,Horror          NaN   \n",
       "\n",
       "                                 Age  Adult  For man  For woman  \n",
       "1059  R - 17+ (violence & profanity)      1        0          0  "
      ]
     },
     "execution_count": 49,
     "metadata": {},
     "output_type": "execute_result"
    }
   ],
   "source": [
    "anime[anime['Rating'] == 3.34 ]"
   ]
  },
  {
   "cell_type": "markdown",
   "id": "64c29227",
   "metadata": {},
   "source": [
    "**Наиболее высоким рейтингом таким образом обладает аниме \"Стальной алхимик\", а самым низким \"Куколка\"**"
   ]
  },
  {
   "cell_type": "markdown",
   "id": "29b717ae",
   "metadata": {},
   "source": [
    "**Изучим какие жанры наиболее популярны для разных аудитории**"
   ]
  },
  {
   "cell_type": "code",
   "execution_count": 50,
   "id": "2654bd6d",
   "metadata": {},
   "outputs": [
    {
     "data": {
      "text/plain": [
       "Demographics\n",
       "Josei           Drama,Slice of Life,Sports\n",
       "Kids       Action,Adventure,Comedy,Fantasy\n",
       "Seinen                Comedy,Slice of Life\n",
       "Shoujo                      Comedy,Romance\n",
       "Shounen                     Comedy,Romance\n",
       "Name: Genre, dtype: object"
      ]
     },
     "execution_count": 50,
     "metadata": {},
     "output_type": "execute_result"
    }
   ],
   "source": [
    "anime.groupby('Demographics')['Genre'].agg(lambda x: x.value_counts().index[0])"
   ]
  },
  {
   "cell_type": "markdown",
   "id": "744274a6",
   "metadata": {},
   "source": [
    "Интересно что жанры для мальчиков от 12 до 18 лет(сенен) и для девочек того же возраста (седзе) совпадают - комедия и романтика"
   ]
  },
  {
   "cell_type": "code",
   "execution_count": 51,
   "id": "82a70504",
   "metadata": {},
   "outputs": [
    {
     "data": {
      "text/html": [
       "<div>\n",
       "<style scoped>\n",
       "    .dataframe tbody tr th:only-of-type {\n",
       "        vertical-align: middle;\n",
       "    }\n",
       "\n",
       "    .dataframe tbody tr th {\n",
       "        vertical-align: top;\n",
       "    }\n",
       "\n",
       "    .dataframe thead tr th {\n",
       "        text-align: left;\n",
       "    }\n",
       "\n",
       "    .dataframe thead tr:last-of-type th {\n",
       "        text-align: right;\n",
       "    }\n",
       "</style>\n",
       "<table border=\"1\" class=\"dataframe\">\n",
       "  <thead>\n",
       "    <tr>\n",
       "      <th></th>\n",
       "      <th>mean</th>\n",
       "      <th>median</th>\n",
       "    </tr>\n",
       "    <tr>\n",
       "      <th></th>\n",
       "      <th>Rating</th>\n",
       "      <th>Rating</th>\n",
       "    </tr>\n",
       "    <tr>\n",
       "      <th>Adult</th>\n",
       "      <th></th>\n",
       "      <th></th>\n",
       "    </tr>\n",
       "  </thead>\n",
       "  <tbody>\n",
       "    <tr>\n",
       "      <th>0</th>\n",
       "      <td>7.482554</td>\n",
       "      <td>7.48</td>\n",
       "    </tr>\n",
       "    <tr>\n",
       "      <th>1</th>\n",
       "      <td>7.419570</td>\n",
       "      <td>7.43</td>\n",
       "    </tr>\n",
       "  </tbody>\n",
       "</table>\n",
       "</div>"
      ],
      "text/plain": [
       "           mean median\n",
       "         Rating Rating\n",
       "Adult                 \n",
       "0      7.482554   7.48\n",
       "1      7.419570   7.43"
      ]
     },
     "execution_count": 51,
     "metadata": {},
     "output_type": "execute_result"
    }
   ],
   "source": [
    "anime.pivot_table(index='Adult', \n",
    "                  values=['Rating'],\n",
    "                  aggfunc=['mean', 'median'])"
   ]
  },
  {
   "cell_type": "markdown",
   "id": "3c148dcd",
   "metadata": {},
   "source": [
    "Можно так же посчитать, что по медианному и среднему значению показателей рейтинга, аудитория старше 18 менее требовательная чем не соверщеннолетняя"
   ]
  },
  {
   "cell_type": "markdown",
   "id": "ec40ebd3",
   "metadata": {},
   "source": [
    "# Регрессионный анализ"
   ]
  },
  {
   "cell_type": "code",
   "execution_count": 52,
   "id": "b9eff21d",
   "metadata": {},
   "outputs": [
    {
     "data": {
      "text/html": [
       "<div>\n",
       "<style scoped>\n",
       "    .dataframe tbody tr th:only-of-type {\n",
       "        vertical-align: middle;\n",
       "    }\n",
       "\n",
       "    .dataframe tbody tr th {\n",
       "        vertical-align: top;\n",
       "    }\n",
       "\n",
       "    .dataframe thead th {\n",
       "        text-align: right;\n",
       "    }\n",
       "</style>\n",
       "<table border=\"1\" class=\"dataframe\">\n",
       "  <thead>\n",
       "    <tr style=\"text-align: right;\">\n",
       "      <th></th>\n",
       "      <th>Name of the anime</th>\n",
       "      <th>Rating</th>\n",
       "      <th>Ranking</th>\n",
       "      <th>Followers</th>\n",
       "      <th>Type</th>\n",
       "      <th>Episodes</th>\n",
       "      <th>License</th>\n",
       "      <th>Study</th>\n",
       "      <th>Genre</th>\n",
       "      <th>Demographics</th>\n",
       "      <th>Age</th>\n",
       "      <th>Adult</th>\n",
       "      <th>For man</th>\n",
       "      <th>For woman</th>\n",
       "    </tr>\n",
       "  </thead>\n",
       "  <tbody>\n",
       "    <tr>\n",
       "      <th>0</th>\n",
       "      <td>Death Note</td>\n",
       "      <td>8.63</td>\n",
       "      <td>1</td>\n",
       "      <td>3150451</td>\n",
       "      <td>TV</td>\n",
       "      <td>37.0</td>\n",
       "      <td>VIZ Media</td>\n",
       "      <td>Madhouse</td>\n",
       "      <td>Mystery,Supernatural,Suspense</td>\n",
       "      <td>Shounen</td>\n",
       "      <td>R - 17+ (violence &amp; profanity)</td>\n",
       "      <td>1</td>\n",
       "      <td>1</td>\n",
       "      <td>0</td>\n",
       "    </tr>\n",
       "    <tr>\n",
       "      <th>1</th>\n",
       "      <td>Shingeki no Kyojin</td>\n",
       "      <td>8.52</td>\n",
       "      <td>2</td>\n",
       "      <td>3136959</td>\n",
       "      <td>TV</td>\n",
       "      <td>25.0</td>\n",
       "      <td>Funimation</td>\n",
       "      <td>Wit Studio</td>\n",
       "      <td>Action,Drama,Fantasy,Mystery</td>\n",
       "      <td>Shounen</td>\n",
       "      <td>R - 17+ (violence &amp; profanity)</td>\n",
       "      <td>1</td>\n",
       "      <td>1</td>\n",
       "      <td>0</td>\n",
       "    </tr>\n",
       "    <tr>\n",
       "      <th>2</th>\n",
       "      <td>Fullmetal Alchemist: Brotherhood</td>\n",
       "      <td>9.16</td>\n",
       "      <td>3</td>\n",
       "      <td>2674846</td>\n",
       "      <td>TV</td>\n",
       "      <td>64.0</td>\n",
       "      <td>Funimation,Aniplex of America</td>\n",
       "      <td>Bones</td>\n",
       "      <td>Action,Adventure,Comedy,Drama,Fantasy</td>\n",
       "      <td>Shounen</td>\n",
       "      <td>R - 17+ (violence &amp; profanity)</td>\n",
       "      <td>1</td>\n",
       "      <td>1</td>\n",
       "      <td>0</td>\n",
       "    </tr>\n",
       "    <tr>\n",
       "      <th>3</th>\n",
       "      <td>Sword Art Online</td>\n",
       "      <td>7.21</td>\n",
       "      <td>4</td>\n",
       "      <td>2583874</td>\n",
       "      <td>TV</td>\n",
       "      <td>25.0</td>\n",
       "      <td>Aniplex of America</td>\n",
       "      <td>A-1 Pictures</td>\n",
       "      <td>Action,Adventure,Fantasy,Romance</td>\n",
       "      <td>NaN</td>\n",
       "      <td>PG-13 - Teens 13 or older</td>\n",
       "      <td>0</td>\n",
       "      <td>0</td>\n",
       "      <td>0</td>\n",
       "    </tr>\n",
       "    <tr>\n",
       "      <th>4</th>\n",
       "      <td>One Punch Man</td>\n",
       "      <td>8.52</td>\n",
       "      <td>5</td>\n",
       "      <td>2577610</td>\n",
       "      <td>TV</td>\n",
       "      <td>12.0</td>\n",
       "      <td>VIZ Media</td>\n",
       "      <td>Madhouse</td>\n",
       "      <td>Action,Comedy,Sci-Fi,Supernatural</td>\n",
       "      <td>NaN</td>\n",
       "      <td>R - 17+ (violence &amp; profanity)</td>\n",
       "      <td>1</td>\n",
       "      <td>0</td>\n",
       "      <td>0</td>\n",
       "    </tr>\n",
       "  </tbody>\n",
       "</table>\n",
       "</div>"
      ],
      "text/plain": [
       "                  Name of the anime  Rating  Ranking  Followers Type  \\\n",
       "0                        Death Note    8.63        1    3150451   TV   \n",
       "1                Shingeki no Kyojin    8.52        2    3136959   TV   \n",
       "2  Fullmetal Alchemist: Brotherhood    9.16        3    2674846   TV   \n",
       "3                  Sword Art Online    7.21        4    2583874   TV   \n",
       "4                     One Punch Man    8.52        5    2577610   TV   \n",
       "\n",
       "   Episodes                        License         Study  \\\n",
       "0      37.0                      VIZ Media      Madhouse   \n",
       "1      25.0                     Funimation    Wit Studio   \n",
       "2      64.0  Funimation,Aniplex of America         Bones   \n",
       "3      25.0             Aniplex of America  A-1 Pictures   \n",
       "4      12.0                      VIZ Media      Madhouse   \n",
       "\n",
       "                                   Genre Demographics  \\\n",
       "0          Mystery,Supernatural,Suspense      Shounen   \n",
       "1           Action,Drama,Fantasy,Mystery      Shounen   \n",
       "2  Action,Adventure,Comedy,Drama,Fantasy      Shounen   \n",
       "3       Action,Adventure,Fantasy,Romance          NaN   \n",
       "4      Action,Comedy,Sci-Fi,Supernatural          NaN   \n",
       "\n",
       "                              Age  Adult  For man  For woman  \n",
       "0  R - 17+ (violence & profanity)      1        1          0  \n",
       "1  R - 17+ (violence & profanity)      1        1          0  \n",
       "2  R - 17+ (violence & profanity)      1        1          0  \n",
       "3       PG-13 - Teens 13 or older      0        0          0  \n",
       "4  R - 17+ (violence & profanity)      1        0          0  "
      ]
     },
     "execution_count": 52,
     "metadata": {},
     "output_type": "execute_result"
    }
   ],
   "source": [
    "anime.head()\n"
   ]
  },
  {
   "cell_type": "markdown",
   "id": "3fba49ec",
   "metadata": {},
   "source": [
    "# Для удобства последующей работы выкинем их Дата сета значения с пустым рейтингом"
   ]
  },
  {
   "cell_type": "code",
   "execution_count": 105,
   "id": "412e7249",
   "metadata": {},
   "outputs": [
    {
     "ename": "AttributeError",
     "evalue": "Can only use .str accessor with string values!",
     "output_type": "error",
     "traceback": [
      "\u001b[1;31m---------------------------------------------------------------------------\u001b[0m",
      "\u001b[1;31mAttributeError\u001b[0m                            Traceback (most recent call last)",
      "\u001b[1;32m~\\AppData\\Local\\Temp\\ipykernel_13024\\3710181156.py\u001b[0m in \u001b[0;36m<module>\u001b[1;34m\u001b[0m\n\u001b[1;32m----> 1\u001b[1;33m \u001b[0manime\u001b[0m\u001b[1;33m[\u001b[0m\u001b[1;34m'Followers'\u001b[0m\u001b[1;33m]\u001b[0m \u001b[1;33m=\u001b[0m \u001b[0manime\u001b[0m\u001b[1;33m[\u001b[0m\u001b[1;34m'Followers'\u001b[0m\u001b[1;33m]\u001b[0m\u001b[1;33m.\u001b[0m\u001b[0mstr\u001b[0m\u001b[1;33m.\u001b[0m\u001b[0mreplace\u001b[0m\u001b[1;33m(\u001b[0m\u001b[1;34m','\u001b[0m\u001b[1;33m,\u001b[0m\u001b[1;34m''\u001b[0m\u001b[1;33m)\u001b[0m\u001b[1;33m.\u001b[0m\u001b[0mastype\u001b[0m\u001b[1;33m(\u001b[0m\u001b[0mint\u001b[0m\u001b[1;33m)\u001b[0m\u001b[1;33m\u001b[0m\u001b[1;33m\u001b[0m\u001b[0m\n\u001b[0m",
      "\u001b[1;32mC:\\ProgramData\\Anaconda3\\lib\\site-packages\\pandas\\core\\generic.py\u001b[0m in \u001b[0;36m__getattr__\u001b[1;34m(self, name)\u001b[0m\n\u001b[0;32m   5573\u001b[0m         ):\n\u001b[0;32m   5574\u001b[0m             \u001b[1;32mreturn\u001b[0m \u001b[0mself\u001b[0m\u001b[1;33m[\u001b[0m\u001b[0mname\u001b[0m\u001b[1;33m]\u001b[0m\u001b[1;33m\u001b[0m\u001b[1;33m\u001b[0m\u001b[0m\n\u001b[1;32m-> 5575\u001b[1;33m         \u001b[1;32mreturn\u001b[0m \u001b[0mobject\u001b[0m\u001b[1;33m.\u001b[0m\u001b[0m__getattribute__\u001b[0m\u001b[1;33m(\u001b[0m\u001b[0mself\u001b[0m\u001b[1;33m,\u001b[0m \u001b[0mname\u001b[0m\u001b[1;33m)\u001b[0m\u001b[1;33m\u001b[0m\u001b[1;33m\u001b[0m\u001b[0m\n\u001b[0m\u001b[0;32m   5576\u001b[0m \u001b[1;33m\u001b[0m\u001b[0m\n\u001b[0;32m   5577\u001b[0m     \u001b[1;32mdef\u001b[0m \u001b[0m__setattr__\u001b[0m\u001b[1;33m(\u001b[0m\u001b[0mself\u001b[0m\u001b[1;33m,\u001b[0m \u001b[0mname\u001b[0m\u001b[1;33m:\u001b[0m \u001b[0mstr\u001b[0m\u001b[1;33m,\u001b[0m \u001b[0mvalue\u001b[0m\u001b[1;33m)\u001b[0m \u001b[1;33m->\u001b[0m \u001b[1;32mNone\u001b[0m\u001b[1;33m:\u001b[0m\u001b[1;33m\u001b[0m\u001b[1;33m\u001b[0m\u001b[0m\n",
      "\u001b[1;32mC:\\ProgramData\\Anaconda3\\lib\\site-packages\\pandas\\core\\accessor.py\u001b[0m in \u001b[0;36m__get__\u001b[1;34m(self, obj, cls)\u001b[0m\n\u001b[0;32m    180\u001b[0m             \u001b[1;31m# we're accessing the attribute of the class, i.e., Dataset.geo\u001b[0m\u001b[1;33m\u001b[0m\u001b[1;33m\u001b[0m\u001b[0m\n\u001b[0;32m    181\u001b[0m             \u001b[1;32mreturn\u001b[0m \u001b[0mself\u001b[0m\u001b[1;33m.\u001b[0m\u001b[0m_accessor\u001b[0m\u001b[1;33m\u001b[0m\u001b[1;33m\u001b[0m\u001b[0m\n\u001b[1;32m--> 182\u001b[1;33m         \u001b[0maccessor_obj\u001b[0m \u001b[1;33m=\u001b[0m \u001b[0mself\u001b[0m\u001b[1;33m.\u001b[0m\u001b[0m_accessor\u001b[0m\u001b[1;33m(\u001b[0m\u001b[0mobj\u001b[0m\u001b[1;33m)\u001b[0m\u001b[1;33m\u001b[0m\u001b[1;33m\u001b[0m\u001b[0m\n\u001b[0m\u001b[0;32m    183\u001b[0m         \u001b[1;31m# Replace the property with the accessor object. Inspired by:\u001b[0m\u001b[1;33m\u001b[0m\u001b[1;33m\u001b[0m\u001b[0m\n\u001b[0;32m    184\u001b[0m         \u001b[1;31m# https://www.pydanny.com/cached-property.html\u001b[0m\u001b[1;33m\u001b[0m\u001b[1;33m\u001b[0m\u001b[0m\n",
      "\u001b[1;32mC:\\ProgramData\\Anaconda3\\lib\\site-packages\\pandas\\core\\strings\\accessor.py\u001b[0m in \u001b[0;36m__init__\u001b[1;34m(self, data)\u001b[0m\n\u001b[0;32m    175\u001b[0m         \u001b[1;32mfrom\u001b[0m \u001b[0mpandas\u001b[0m\u001b[1;33m.\u001b[0m\u001b[0mcore\u001b[0m\u001b[1;33m.\u001b[0m\u001b[0marrays\u001b[0m\u001b[1;33m.\u001b[0m\u001b[0mstring_\u001b[0m \u001b[1;32mimport\u001b[0m \u001b[0mStringDtype\u001b[0m\u001b[1;33m\u001b[0m\u001b[1;33m\u001b[0m\u001b[0m\n\u001b[0;32m    176\u001b[0m \u001b[1;33m\u001b[0m\u001b[0m\n\u001b[1;32m--> 177\u001b[1;33m         \u001b[0mself\u001b[0m\u001b[1;33m.\u001b[0m\u001b[0m_inferred_dtype\u001b[0m \u001b[1;33m=\u001b[0m \u001b[0mself\u001b[0m\u001b[1;33m.\u001b[0m\u001b[0m_validate\u001b[0m\u001b[1;33m(\u001b[0m\u001b[0mdata\u001b[0m\u001b[1;33m)\u001b[0m\u001b[1;33m\u001b[0m\u001b[1;33m\u001b[0m\u001b[0m\n\u001b[0m\u001b[0;32m    178\u001b[0m         \u001b[0mself\u001b[0m\u001b[1;33m.\u001b[0m\u001b[0m_is_categorical\u001b[0m \u001b[1;33m=\u001b[0m \u001b[0mis_categorical_dtype\u001b[0m\u001b[1;33m(\u001b[0m\u001b[0mdata\u001b[0m\u001b[1;33m.\u001b[0m\u001b[0mdtype\u001b[0m\u001b[1;33m)\u001b[0m\u001b[1;33m\u001b[0m\u001b[1;33m\u001b[0m\u001b[0m\n\u001b[0;32m    179\u001b[0m         \u001b[0mself\u001b[0m\u001b[1;33m.\u001b[0m\u001b[0m_is_string\u001b[0m \u001b[1;33m=\u001b[0m \u001b[0misinstance\u001b[0m\u001b[1;33m(\u001b[0m\u001b[0mdata\u001b[0m\u001b[1;33m.\u001b[0m\u001b[0mdtype\u001b[0m\u001b[1;33m,\u001b[0m \u001b[0mStringDtype\u001b[0m\u001b[1;33m)\u001b[0m\u001b[1;33m\u001b[0m\u001b[1;33m\u001b[0m\u001b[0m\n",
      "\u001b[1;32mC:\\ProgramData\\Anaconda3\\lib\\site-packages\\pandas\\core\\strings\\accessor.py\u001b[0m in \u001b[0;36m_validate\u001b[1;34m(data)\u001b[0m\n\u001b[0;32m    229\u001b[0m \u001b[1;33m\u001b[0m\u001b[0m\n\u001b[0;32m    230\u001b[0m         \u001b[1;32mif\u001b[0m \u001b[0minferred_dtype\u001b[0m \u001b[1;32mnot\u001b[0m \u001b[1;32min\u001b[0m \u001b[0mallowed_types\u001b[0m\u001b[1;33m:\u001b[0m\u001b[1;33m\u001b[0m\u001b[1;33m\u001b[0m\u001b[0m\n\u001b[1;32m--> 231\u001b[1;33m             \u001b[1;32mraise\u001b[0m \u001b[0mAttributeError\u001b[0m\u001b[1;33m(\u001b[0m\u001b[1;34m\"Can only use .str accessor with string values!\"\u001b[0m\u001b[1;33m)\u001b[0m\u001b[1;33m\u001b[0m\u001b[1;33m\u001b[0m\u001b[0m\n\u001b[0m\u001b[0;32m    232\u001b[0m         \u001b[1;32mreturn\u001b[0m \u001b[0minferred_dtype\u001b[0m\u001b[1;33m\u001b[0m\u001b[1;33m\u001b[0m\u001b[0m\n\u001b[0;32m    233\u001b[0m \u001b[1;33m\u001b[0m\u001b[0m\n",
      "\u001b[1;31mAttributeError\u001b[0m: Can only use .str accessor with string values!"
     ]
    }
   ],
   "source": [
    "anime['Followers'] = anime['Followers'].str.replace(',','').astype(int)"
   ]
  },
  {
   "cell_type": "code",
   "execution_count": 55,
   "id": "0ffc61e4",
   "metadata": {},
   "outputs": [
    {
     "name": "stdout",
     "output_type": "stream",
     "text": [
      "<class 'pandas.core.frame.DataFrame'>\n",
      "RangeIndex: 2000 entries, 0 to 1999\n",
      "Data columns (total 14 columns):\n",
      " #   Column             Non-Null Count  Dtype  \n",
      "---  ------             --------------  -----  \n",
      " 0   Name of the anime  2000 non-null   object \n",
      " 1   Rating             1979 non-null   float64\n",
      " 2   Ranking            2000 non-null   int32  \n",
      " 3   Followers          2000 non-null   int32  \n",
      " 4   Type               2000 non-null   object \n",
      " 5   Episodes           1975 non-null   float64\n",
      " 6   License            2000 non-null   object \n",
      " 7   Study              2000 non-null   object \n",
      " 8   Genre              1832 non-null   object \n",
      " 9   Demographics       884 non-null    object \n",
      " 10  Age                2000 non-null   object \n",
      " 11  Adult              2000 non-null   int64  \n",
      " 12  For man            2000 non-null   int64  \n",
      " 13  For woman          2000 non-null   int64  \n",
      "dtypes: float64(2), int32(2), int64(3), object(7)\n",
      "memory usage: 203.2+ KB\n"
     ]
    }
   ],
   "source": [
    "anime.info()"
   ]
  },
  {
   "cell_type": "code",
   "execution_count": 56,
   "id": "3ee25bf1",
   "metadata": {},
   "outputs": [
    {
     "data": {
      "text/plain": [
       "count    1979.000000\n",
       "mean        7.462567\n",
       "std         0.677055\n",
       "min         3.340000\n",
       "25%         7.090000\n",
       "50%         7.470000\n",
       "75%         7.925000\n",
       "max         9.160000\n",
       "Name: Rating, dtype: float64"
      ]
     },
     "execution_count": 56,
     "metadata": {},
     "output_type": "execute_result"
    }
   ],
   "source": [
    "anime['Rating'].describe()"
   ]
  },
  {
   "cell_type": "code",
   "execution_count": 57,
   "id": "9b95f38c",
   "metadata": {},
   "outputs": [
    {
     "data": {
      "text/plain": [
       "Name of the anime       0\n",
       "Rating                 21\n",
       "Ranking                 0\n",
       "Followers               0\n",
       "Type                    0\n",
       "Episodes               25\n",
       "License                 0\n",
       "Study                   0\n",
       "Genre                 168\n",
       "Demographics         1116\n",
       "Age                     0\n",
       "Adult                   0\n",
       "For man                 0\n",
       "For woman               0\n",
       "dtype: int64"
      ]
     },
     "execution_count": 57,
     "metadata": {},
     "output_type": "execute_result"
    }
   ],
   "source": [
    "anime.isna().sum()"
   ]
  },
  {
   "cell_type": "code",
   "execution_count": 70,
   "id": "e1b843ef",
   "metadata": {},
   "outputs": [
    {
     "data": {
      "text/plain": [
       "468    NaN\n",
       "481    NaN\n",
       "624    NaN\n",
       "678    NaN\n",
       "722    NaN\n",
       "867    NaN\n",
       "1016   NaN\n",
       "1033   NaN\n",
       "1132   NaN\n",
       "1150   NaN\n",
       "1328   NaN\n",
       "1382   NaN\n",
       "1494   NaN\n",
       "1625   NaN\n",
       "1744   NaN\n",
       "1776   NaN\n",
       "1880   NaN\n",
       "1893   NaN\n",
       "1925   NaN\n",
       "1963   NaN\n",
       "1991   NaN\n",
       "Name: Rating, dtype: float64"
      ]
     },
     "execution_count": 70,
     "metadata": {},
     "output_type": "execute_result"
    }
   ],
   "source": [
    "anime[anime['Rating'].isna()]['Rating']"
   ]
  },
  {
   "cell_type": "code",
   "execution_count": 58,
   "id": "98d0a29c",
   "metadata": {},
   "outputs": [
    {
     "ename": "AttributeError",
     "evalue": "'NoneType' object has no attribute 'shape'",
     "output_type": "error",
     "traceback": [
      "\u001b[1;31m---------------------------------------------------------------------------\u001b[0m",
      "\u001b[1;31mAttributeError\u001b[0m                            Traceback (most recent call last)",
      "\u001b[1;32m~\\AppData\\Local\\Temp\\ipykernel_13024\\994378546.py\u001b[0m in \u001b[0;36m<module>\u001b[1;34m\u001b[0m\n\u001b[1;32m----> 1\u001b[1;33m \u001b[0manime\u001b[0m\u001b[1;33m.\u001b[0m\u001b[0mdropna\u001b[0m\u001b[1;33m(\u001b[0m\u001b[0msubset\u001b[0m\u001b[1;33m=\u001b[0m\u001b[1;33m[\u001b[0m\u001b[1;34m'Rating'\u001b[0m\u001b[1;33m]\u001b[0m\u001b[1;33m,\u001b[0m \u001b[0minplace\u001b[0m\u001b[1;33m=\u001b[0m\u001b[1;32mTrue\u001b[0m\u001b[1;33m)\u001b[0m\u001b[1;33m.\u001b[0m\u001b[0mshape\u001b[0m\u001b[1;33m\u001b[0m\u001b[1;33m\u001b[0m\u001b[0m\n\u001b[0m",
      "\u001b[1;31mAttributeError\u001b[0m: 'NoneType' object has no attribute 'shape'"
     ]
    }
   ],
   "source": [
    "anime.dropna(subset=['Rating'], inplace=True).shape"
   ]
  },
  {
   "cell_type": "code",
   "execution_count": 59,
   "id": "43161d92",
   "metadata": {},
   "outputs": [
    {
     "name": "stdout",
     "output_type": "stream",
     "text": [
      "<class 'pandas.core.frame.DataFrame'>\n",
      "Int64Index: 1979 entries, 0 to 1999\n",
      "Data columns (total 14 columns):\n",
      " #   Column             Non-Null Count  Dtype  \n",
      "---  ------             --------------  -----  \n",
      " 0   Name of the anime  1979 non-null   object \n",
      " 1   Rating             1979 non-null   float64\n",
      " 2   Ranking            1979 non-null   int32  \n",
      " 3   Followers          1979 non-null   int32  \n",
      " 4   Type               1979 non-null   object \n",
      " 5   Episodes           1972 non-null   float64\n",
      " 6   License            1979 non-null   object \n",
      " 7   Study              1979 non-null   object \n",
      " 8   Genre              1812 non-null   object \n",
      " 9   Demographics       874 non-null    object \n",
      " 10  Age                1979 non-null   object \n",
      " 11  Adult              1979 non-null   int64  \n",
      " 12  For man            1979 non-null   int64  \n",
      " 13  For woman          1979 non-null   int64  \n",
      "dtypes: float64(2), int32(2), int64(3), object(7)\n",
      "memory usage: 216.5+ KB\n"
     ]
    }
   ],
   "source": [
    "anime.info()"
   ]
  },
  {
   "cell_type": "markdown",
   "id": "292f7df2",
   "metadata": {},
   "source": [
    "**Изучим корреляцию данных**"
   ]
  },
  {
   "cell_type": "code",
   "execution_count": 79,
   "id": "b88377f4",
   "metadata": {},
   "outputs": [
    {
     "data": {
      "text/html": [
       "<div>\n",
       "<style scoped>\n",
       "    .dataframe tbody tr th:only-of-type {\n",
       "        vertical-align: middle;\n",
       "    }\n",
       "\n",
       "    .dataframe tbody tr th {\n",
       "        vertical-align: top;\n",
       "    }\n",
       "\n",
       "    .dataframe thead th {\n",
       "        text-align: right;\n",
       "    }\n",
       "</style>\n",
       "<table border=\"1\" class=\"dataframe\">\n",
       "  <thead>\n",
       "    <tr style=\"text-align: right;\">\n",
       "      <th></th>\n",
       "      <th>Rating</th>\n",
       "      <th>Ranking</th>\n",
       "      <th>Followers</th>\n",
       "      <th>Episodes</th>\n",
       "      <th>Adult</th>\n",
       "      <th>For man</th>\n",
       "      <th>For woman</th>\n",
       "    </tr>\n",
       "  </thead>\n",
       "  <tbody>\n",
       "    <tr>\n",
       "      <th>Rating</th>\n",
       "      <td>1.000000</td>\n",
       "      <td>-0.343978</td>\n",
       "      <td>0.346825</td>\n",
       "      <td>0.104190</td>\n",
       "      <td>-0.043309</td>\n",
       "      <td>0.128987</td>\n",
       "      <td>0.060244</td>\n",
       "    </tr>\n",
       "    <tr>\n",
       "      <th>Ranking</th>\n",
       "      <td>-0.343978</td>\n",
       "      <td>1.000000</td>\n",
       "      <td>-0.727858</td>\n",
       "      <td>-0.133473</td>\n",
       "      <td>-0.105842</td>\n",
       "      <td>-0.038636</td>\n",
       "      <td>0.035338</td>\n",
       "    </tr>\n",
       "    <tr>\n",
       "      <th>Followers</th>\n",
       "      <td>0.346825</td>\n",
       "      <td>-0.727858</td>\n",
       "      <td>1.000000</td>\n",
       "      <td>0.205461</td>\n",
       "      <td>0.091115</td>\n",
       "      <td>0.089635</td>\n",
       "      <td>-0.051468</td>\n",
       "    </tr>\n",
       "    <tr>\n",
       "      <th>Episodes</th>\n",
       "      <td>0.104190</td>\n",
       "      <td>-0.133473</td>\n",
       "      <td>0.205461</td>\n",
       "      <td>1.000000</td>\n",
       "      <td>-0.082312</td>\n",
       "      <td>0.143857</td>\n",
       "      <td>0.027874</td>\n",
       "    </tr>\n",
       "    <tr>\n",
       "      <th>Adult</th>\n",
       "      <td>-0.043309</td>\n",
       "      <td>-0.105842</td>\n",
       "      <td>0.091115</td>\n",
       "      <td>-0.082312</td>\n",
       "      <td>1.000000</td>\n",
       "      <td>0.011641</td>\n",
       "      <td>-0.124758</td>\n",
       "    </tr>\n",
       "    <tr>\n",
       "      <th>For man</th>\n",
       "      <td>0.128987</td>\n",
       "      <td>-0.038636</td>\n",
       "      <td>0.089635</td>\n",
       "      <td>0.143857</td>\n",
       "      <td>0.011641</td>\n",
       "      <td>1.000000</td>\n",
       "      <td>-0.200904</td>\n",
       "    </tr>\n",
       "    <tr>\n",
       "      <th>For woman</th>\n",
       "      <td>0.060244</td>\n",
       "      <td>0.035338</td>\n",
       "      <td>-0.051468</td>\n",
       "      <td>0.027874</td>\n",
       "      <td>-0.124758</td>\n",
       "      <td>-0.200904</td>\n",
       "      <td>1.000000</td>\n",
       "    </tr>\n",
       "  </tbody>\n",
       "</table>\n",
       "</div>"
      ],
      "text/plain": [
       "             Rating   Ranking  Followers  Episodes     Adult   For man  \\\n",
       "Rating     1.000000 -0.343978   0.346825  0.104190 -0.043309  0.128987   \n",
       "Ranking   -0.343978  1.000000  -0.727858 -0.133473 -0.105842 -0.038636   \n",
       "Followers  0.346825 -0.727858   1.000000  0.205461  0.091115  0.089635   \n",
       "Episodes   0.104190 -0.133473   0.205461  1.000000 -0.082312  0.143857   \n",
       "Adult     -0.043309 -0.105842   0.091115 -0.082312  1.000000  0.011641   \n",
       "For man    0.128987 -0.038636   0.089635  0.143857  0.011641  1.000000   \n",
       "For woman  0.060244  0.035338  -0.051468  0.027874 -0.124758 -0.200904   \n",
       "\n",
       "           For woman  \n",
       "Rating      0.060244  \n",
       "Ranking     0.035338  \n",
       "Followers  -0.051468  \n",
       "Episodes    0.027874  \n",
       "Adult      -0.124758  \n",
       "For man    -0.200904  \n",
       "For woman   1.000000  "
      ]
     },
     "execution_count": 79,
     "metadata": {},
     "output_type": "execute_result"
    }
   ],
   "source": [
    "anime.corr()"
   ]
  },
  {
   "cell_type": "code",
   "execution_count": 80,
   "id": "03ee504a",
   "metadata": {},
   "outputs": [],
   "source": [
    "anime['Episodes'] = pd.to_numeric(anime['Episodes'], errors='coerce')"
   ]
  },
  {
   "cell_type": "code",
   "execution_count": 81,
   "id": "09f60ce5",
   "metadata": {},
   "outputs": [
    {
     "name": "stdout",
     "output_type": "stream",
     "text": [
      "<class 'pandas.core.frame.DataFrame'>\n",
      "Int64Index: 1979 entries, 0 to 1999\n",
      "Data columns (total 14 columns):\n",
      " #   Column             Non-Null Count  Dtype  \n",
      "---  ------             --------------  -----  \n",
      " 0   Name of the anime  1979 non-null   object \n",
      " 1   Rating             1979 non-null   float64\n",
      " 2   Ranking            1979 non-null   int32  \n",
      " 3   Followers          1979 non-null   int32  \n",
      " 4   Type               1979 non-null   object \n",
      " 5   Episodes           1972 non-null   float64\n",
      " 6   License            1979 non-null   object \n",
      " 7   Study              1979 non-null   object \n",
      " 8   Genre              1812 non-null   object \n",
      " 9   Demographics       874 non-null    object \n",
      " 10  Age                1979 non-null   object \n",
      " 11  Adult              1979 non-null   int64  \n",
      " 12  For man            1979 non-null   int64  \n",
      " 13  For woman          1979 non-null   int64  \n",
      "dtypes: float64(2), int32(2), int64(3), object(7)\n",
      "memory usage: 216.5+ KB\n"
     ]
    }
   ],
   "source": [
    "anime.info()"
   ]
  },
  {
   "cell_type": "code",
   "execution_count": 92,
   "id": "94726ddc",
   "metadata": {},
   "outputs": [],
   "source": [
    "animecor = anime[['Rating','Followers', 'Episodes', 'Adult', 'For man', 'For woman']]"
   ]
  },
  {
   "cell_type": "code",
   "execution_count": 93,
   "id": "809cc172",
   "metadata": {},
   "outputs": [
    {
     "data": {
      "text/html": [
       "<div>\n",
       "<style scoped>\n",
       "    .dataframe tbody tr th:only-of-type {\n",
       "        vertical-align: middle;\n",
       "    }\n",
       "\n",
       "    .dataframe tbody tr th {\n",
       "        vertical-align: top;\n",
       "    }\n",
       "\n",
       "    .dataframe thead th {\n",
       "        text-align: right;\n",
       "    }\n",
       "</style>\n",
       "<table border=\"1\" class=\"dataframe\">\n",
       "  <thead>\n",
       "    <tr style=\"text-align: right;\">\n",
       "      <th></th>\n",
       "      <th>Rating</th>\n",
       "      <th>Followers</th>\n",
       "      <th>Episodes</th>\n",
       "      <th>Adult</th>\n",
       "      <th>For man</th>\n",
       "      <th>For woman</th>\n",
       "    </tr>\n",
       "  </thead>\n",
       "  <tbody>\n",
       "    <tr>\n",
       "      <th>0</th>\n",
       "      <td>8.63</td>\n",
       "      <td>3150451</td>\n",
       "      <td>37.0</td>\n",
       "      <td>1</td>\n",
       "      <td>1</td>\n",
       "      <td>0</td>\n",
       "    </tr>\n",
       "    <tr>\n",
       "      <th>1</th>\n",
       "      <td>8.52</td>\n",
       "      <td>3136959</td>\n",
       "      <td>25.0</td>\n",
       "      <td>1</td>\n",
       "      <td>1</td>\n",
       "      <td>0</td>\n",
       "    </tr>\n",
       "    <tr>\n",
       "      <th>2</th>\n",
       "      <td>9.16</td>\n",
       "      <td>2674846</td>\n",
       "      <td>64.0</td>\n",
       "      <td>1</td>\n",
       "      <td>1</td>\n",
       "      <td>0</td>\n",
       "    </tr>\n",
       "    <tr>\n",
       "      <th>3</th>\n",
       "      <td>7.21</td>\n",
       "      <td>2583874</td>\n",
       "      <td>25.0</td>\n",
       "      <td>0</td>\n",
       "      <td>0</td>\n",
       "      <td>0</td>\n",
       "    </tr>\n",
       "    <tr>\n",
       "      <th>4</th>\n",
       "      <td>8.52</td>\n",
       "      <td>2577610</td>\n",
       "      <td>12.0</td>\n",
       "      <td>1</td>\n",
       "      <td>0</td>\n",
       "      <td>0</td>\n",
       "    </tr>\n",
       "  </tbody>\n",
       "</table>\n",
       "</div>"
      ],
      "text/plain": [
       "   Rating  Followers  Episodes  Adult  For man  For woman\n",
       "0    8.63    3150451      37.0      1        1          0\n",
       "1    8.52    3136959      25.0      1        1          0\n",
       "2    9.16    2674846      64.0      1        1          0\n",
       "3    7.21    2583874      25.0      0        0          0\n",
       "4    8.52    2577610      12.0      1        0          0"
      ]
     },
     "execution_count": 93,
     "metadata": {},
     "output_type": "execute_result"
    }
   ],
   "source": [
    "animecor.head()"
   ]
  },
  {
   "cell_type": "code",
   "execution_count": 94,
   "id": "88eeb6bd",
   "metadata": {},
   "outputs": [
    {
     "name": "stdout",
     "output_type": "stream",
     "text": [
      "             Rating  Followers  Episodes     Adult   For man  For woman\n",
      "Rating     1.000000   0.346825  0.104190 -0.043309  0.128987   0.060244\n",
      "Followers  0.346825   1.000000  0.205461  0.091115  0.089635  -0.051468\n",
      "Episodes   0.104190   0.205461  1.000000 -0.082312  0.143857   0.027874\n",
      "Adult     -0.043309   0.091115 -0.082312  1.000000  0.011641  -0.124758\n",
      "For man    0.128987   0.089635  0.143857  0.011641  1.000000  -0.200904\n",
      "For woman  0.060244  -0.051468  0.027874 -0.124758 -0.200904   1.000000\n"
     ]
    }
   ],
   "source": [
    "Anime2 = animecor.corr()\n",
    "print(Anime2)"
   ]
  },
  {
   "cell_type": "code",
   "execution_count": 95,
   "id": "05be43de",
   "metadata": {},
   "outputs": [
    {
     "data": {
      "text/plain": [
       "<AxesSubplot:xlabel='Rating', ylabel='Episodes'>"
      ]
     },
     "execution_count": 95,
     "metadata": {},
     "output_type": "execute_result"
    },
    {
     "data": {
      "image/png": "[encoded data removed]",
      "text/plain": [
       "<Figure size 640x480 with 1 Axes>"
      ]
     },
     "metadata": {},
     "output_type": "display_data"
    }
   ],
   "source": [
    "animecor.plot('Rating','Episodes', kind='scatter')\n"
   ]
  },
  {
   "cell_type": "code",
   "execution_count": 96,
   "id": "d155bf18",
   "metadata": {},
   "outputs": [
    {
     "data": {
      "text/plain": [
       "<AxesSubplot:xlabel='Rating', ylabel='Followers'>"
      ]
     },
     "execution_count": 96,
     "metadata": {},
     "output_type": "execute_result"
    },
    {
     "data": {
      "image/png": "[encoded data removed]",
      "text/plain": [
       "<Figure size 640x480 with 1 Axes>"
      ]
     },
     "metadata": {},
     "output_type": "display_data"
    }
   ],
   "source": [
    "animecor.plot('Rating','Followers', kind='scatter')"
   ]
  },
  {
   "cell_type": "code",
   "execution_count": 100,
   "id": "c5ddaef8",
   "metadata": {},
   "outputs": [
    {
     "data": {
      "text/plain": [
       "<AxesSubplot:>"
      ]
     },
     "execution_count": 100,
     "metadata": {},
     "output_type": "execute_result"
    },
    {
     "data": {
      "image/png": "[encoded data removed]",
      "text/plain": [
       "<Figure size 1400x1200 with 2 Axes>"
      ]
     },
     "metadata": {},
     "output_type": "display_data"
    }
   ],
   "source": [
    "fig, ax = plt.subplots(figsize = (14,12))\n",
    "\n",
    "sns.heatmap(Anime2, annot=True, linecolor='black', linewidth=0.5,\n",
    "           annot_kws = {'size':20}, vmax = 1, vmin = -1)"
   ]
  },
  {
   "cell_type": "markdown",
   "id": "f2f6c771",
   "metadata": {},
   "source": [
    "**Получается что нет зависимости между количеством эпизодов и рейтингом аниме-продукта. Нельзя говорить о сильной корреляции, но определенная небольшая динамика зависимости между числом подписчиков и рейтингом аниме - есть**"
   ]
  },
  {
   "cell_type": "markdown",
   "id": "624e61fc",
   "metadata": {},
   "source": [
    "Посмотрим есть ли зависимость между рейтингом и его распределением у аниме для взрослых и до 18 лет"
   ]
  },
  {
   "cell_type": "code",
   "execution_count": 68,
   "id": "66d9b130",
   "metadata": {},
   "outputs": [],
   "source": [
    "import seaborn as sns\n",
    "import matplotlib.pyplot as plt"
   ]
  },
  {
   "cell_type": "code",
   "execution_count": 69,
   "id": "12aaeffa",
   "metadata": {},
   "outputs": [
    {
     "data": {
      "text/html": [
       "<div>\n",
       "<style scoped>\n",
       "    .dataframe tbody tr th:only-of-type {\n",
       "        vertical-align: middle;\n",
       "    }\n",
       "\n",
       "    .dataframe tbody tr th {\n",
       "        vertical-align: top;\n",
       "    }\n",
       "\n",
       "    .dataframe thead th {\n",
       "        text-align: right;\n",
       "    }\n",
       "</style>\n",
       "<table border=\"1\" class=\"dataframe\">\n",
       "  <thead>\n",
       "    <tr style=\"text-align: right;\">\n",
       "      <th></th>\n",
       "      <th>Name of the anime</th>\n",
       "      <th>Rating</th>\n",
       "      <th>Ranking</th>\n",
       "      <th>Followers</th>\n",
       "      <th>Type</th>\n",
       "      <th>Episodes</th>\n",
       "      <th>License</th>\n",
       "      <th>Study</th>\n",
       "      <th>Genre</th>\n",
       "      <th>Demographics</th>\n",
       "      <th>Age</th>\n",
       "      <th>Adult</th>\n",
       "      <th>For man</th>\n",
       "      <th>For woman</th>\n",
       "    </tr>\n",
       "  </thead>\n",
       "  <tbody>\n",
       "    <tr>\n",
       "      <th>0</th>\n",
       "      <td>Death Note</td>\n",
       "      <td>8.63</td>\n",
       "      <td>1</td>\n",
       "      <td>3150451</td>\n",
       "      <td>TV</td>\n",
       "      <td>37.0</td>\n",
       "      <td>VIZ Media</td>\n",
       "      <td>Madhouse</td>\n",
       "      <td>Mystery,Supernatural,Suspense</td>\n",
       "      <td>Shounen</td>\n",
       "      <td>R - 17+ (violence &amp; profanity)</td>\n",
       "      <td>1</td>\n",
       "      <td>1</td>\n",
       "      <td>0</td>\n",
       "    </tr>\n",
       "    <tr>\n",
       "      <th>1</th>\n",
       "      <td>Shingeki no Kyojin</td>\n",
       "      <td>8.52</td>\n",
       "      <td>2</td>\n",
       "      <td>3136959</td>\n",
       "      <td>TV</td>\n",
       "      <td>25.0</td>\n",
       "      <td>Funimation</td>\n",
       "      <td>Wit Studio</td>\n",
       "      <td>Action,Drama,Fantasy,Mystery</td>\n",
       "      <td>Shounen</td>\n",
       "      <td>R - 17+ (violence &amp; profanity)</td>\n",
       "      <td>1</td>\n",
       "      <td>1</td>\n",
       "      <td>0</td>\n",
       "    </tr>\n",
       "    <tr>\n",
       "      <th>2</th>\n",
       "      <td>Fullmetal Alchemist: Brotherhood</td>\n",
       "      <td>9.16</td>\n",
       "      <td>3</td>\n",
       "      <td>2674846</td>\n",
       "      <td>TV</td>\n",
       "      <td>64.0</td>\n",
       "      <td>Funimation,Aniplex of America</td>\n",
       "      <td>Bones</td>\n",
       "      <td>Action,Adventure,Comedy,Drama,Fantasy</td>\n",
       "      <td>Shounen</td>\n",
       "      <td>R - 17+ (violence &amp; profanity)</td>\n",
       "      <td>1</td>\n",
       "      <td>1</td>\n",
       "      <td>0</td>\n",
       "    </tr>\n",
       "    <tr>\n",
       "      <th>3</th>\n",
       "      <td>Sword Art Online</td>\n",
       "      <td>7.21</td>\n",
       "      <td>4</td>\n",
       "      <td>2583874</td>\n",
       "      <td>TV</td>\n",
       "      <td>25.0</td>\n",
       "      <td>Aniplex of America</td>\n",
       "      <td>A-1 Pictures</td>\n",
       "      <td>Action,Adventure,Fantasy,Romance</td>\n",
       "      <td>NaN</td>\n",
       "      <td>PG-13 - Teens 13 or older</td>\n",
       "      <td>0</td>\n",
       "      <td>0</td>\n",
       "      <td>0</td>\n",
       "    </tr>\n",
       "    <tr>\n",
       "      <th>4</th>\n",
       "      <td>One Punch Man</td>\n",
       "      <td>8.52</td>\n",
       "      <td>5</td>\n",
       "      <td>2577610</td>\n",
       "      <td>TV</td>\n",
       "      <td>12.0</td>\n",
       "      <td>VIZ Media</td>\n",
       "      <td>Madhouse</td>\n",
       "      <td>Action,Comedy,Sci-Fi,Supernatural</td>\n",
       "      <td>NaN</td>\n",
       "      <td>R - 17+ (violence &amp; profanity)</td>\n",
       "      <td>1</td>\n",
       "      <td>0</td>\n",
       "      <td>0</td>\n",
       "    </tr>\n",
       "  </tbody>\n",
       "</table>\n",
       "</div>"
      ],
      "text/plain": [
       "                  Name of the anime  Rating  Ranking  Followers Type  \\\n",
       "0                        Death Note    8.63        1    3150451   TV   \n",
       "1                Shingeki no Kyojin    8.52        2    3136959   TV   \n",
       "2  Fullmetal Alchemist: Brotherhood    9.16        3    2674846   TV   \n",
       "3                  Sword Art Online    7.21        4    2583874   TV   \n",
       "4                     One Punch Man    8.52        5    2577610   TV   \n",
       "\n",
       "   Episodes                        License         Study  \\\n",
       "0      37.0                      VIZ Media      Madhouse   \n",
       "1      25.0                     Funimation    Wit Studio   \n",
       "2      64.0  Funimation,Aniplex of America         Bones   \n",
       "3      25.0             Aniplex of America  A-1 Pictures   \n",
       "4      12.0                      VIZ Media      Madhouse   \n",
       "\n",
       "                                   Genre Demographics  \\\n",
       "0          Mystery,Supernatural,Suspense      Shounen   \n",
       "1           Action,Drama,Fantasy,Mystery      Shounen   \n",
       "2  Action,Adventure,Comedy,Drama,Fantasy      Shounen   \n",
       "3       Action,Adventure,Fantasy,Romance          NaN   \n",
       "4      Action,Comedy,Sci-Fi,Supernatural          NaN   \n",
       "\n",
       "                              Age  Adult  For man  For woman  \n",
       "0  R - 17+ (violence & profanity)      1        1          0  \n",
       "1  R - 17+ (violence & profanity)      1        1          0  \n",
       "2  R - 17+ (violence & profanity)      1        1          0  \n",
       "3       PG-13 - Teens 13 or older      0        0          0  \n",
       "4  R - 17+ (violence & profanity)      1        0          0  "
      ]
     },
     "execution_count": 69,
     "metadata": {},
     "output_type": "execute_result"
    }
   ],
   "source": [
    "anime.head()"
   ]
  },
  {
   "cell_type": "code",
   "execution_count": 74,
   "id": "8bc2c580",
   "metadata": {},
   "outputs": [
    {
     "data": {
      "text/plain": [
       "0    1351\n",
       "1     628\n",
       "Name: Adult, dtype: int64"
      ]
     },
     "execution_count": 74,
     "metadata": {},
     "output_type": "execute_result"
    }
   ],
   "source": [
    "anime['Adult'].value_counts()"
   ]
  },
  {
   "cell_type": "code",
   "execution_count": 75,
   "id": "59cfa175",
   "metadata": {},
   "outputs": [
    {
     "data": {
      "text/plain": [
       "<AxesSubplot:ylabel='Adult'>"
      ]
     },
     "execution_count": 75,
     "metadata": {},
     "output_type": "execute_result"
    },
    {
     "data": {
      "image/png": "[encoded data removed]",
      "text/plain": [
       "<Figure size 640x480 with 1 Axes>"
      ]
     },
     "metadata": {},
     "output_type": "display_data"
    }
   ],
   "source": [
    "sns.barplot(x=anime['Adult'].value_counts().index, y=anime['Adult'].value_counts())"
   ]
  },
  {
   "cell_type": "code",
   "execution_count": 76,
   "id": "59373926",
   "metadata": {},
   "outputs": [
    {
     "data": {
      "text/plain": [
       "<AxesSubplot:xlabel='Adult', ylabel='Rating'>"
      ]
     },
     "execution_count": 76,
     "metadata": {},
     "output_type": "execute_result"
    },
    {
     "data": {
      "image/png": "[encoded data removed]",
      "text/plain": [
       "<Figure size 640x480 with 1 Axes>"
      ]
     },
     "metadata": {},
     "output_type": "display_data"
    }
   ],
   "source": [
    "sns.violinplot(x=anime['Adult'], y=anime['Rating'])"
   ]
  },
  {
   "cell_type": "markdown",
   "id": "eee611b1",
   "metadata": {},
   "source": [
    "В целом пиковые показатели рейтинга совпадают, но аниме для взрослых готовы ставить более низкие и высокие оценки, а так же делают это плавнее, ось второго изображения длиньше, они более требовательны."
   ]
  },
  {
   "cell_type": "code",
   "execution_count": 122,
   "id": "d0b2c3a1",
   "metadata": {},
   "outputs": [
    {
     "data": {
      "text/html": [
       "<div>\n",
       "<style scoped>\n",
       "    .dataframe tbody tr th:only-of-type {\n",
       "        vertical-align: middle;\n",
       "    }\n",
       "\n",
       "    .dataframe tbody tr th {\n",
       "        vertical-align: top;\n",
       "    }\n",
       "\n",
       "    .dataframe thead th {\n",
       "        text-align: right;\n",
       "    }\n",
       "</style>\n",
       "<table border=\"1\" class=\"dataframe\">\n",
       "  <thead>\n",
       "    <tr style=\"text-align: right;\">\n",
       "      <th></th>\n",
       "      <th>Name of the anime</th>\n",
       "      <th>Rating</th>\n",
       "      <th>Ranking</th>\n",
       "      <th>Followers</th>\n",
       "      <th>Type</th>\n",
       "      <th>Episodes</th>\n",
       "      <th>License</th>\n",
       "      <th>Study</th>\n",
       "      <th>Genre</th>\n",
       "      <th>Demographics</th>\n",
       "      <th>Age</th>\n",
       "      <th>Adult</th>\n",
       "      <th>For man</th>\n",
       "      <th>For woman</th>\n",
       "    </tr>\n",
       "  </thead>\n",
       "  <tbody>\n",
       "    <tr>\n",
       "      <th>0</th>\n",
       "      <td>Death Note</td>\n",
       "      <td>8.63</td>\n",
       "      <td>1</td>\n",
       "      <td>3150451</td>\n",
       "      <td>TV</td>\n",
       "      <td>37.0</td>\n",
       "      <td>VIZ Media</td>\n",
       "      <td>Madhouse</td>\n",
       "      <td>Mystery,Supernatural,Suspense</td>\n",
       "      <td>Shounen</td>\n",
       "      <td>R - 17+ (violence &amp; profanity)</td>\n",
       "      <td>1</td>\n",
       "      <td>1</td>\n",
       "      <td>0</td>\n",
       "    </tr>\n",
       "    <tr>\n",
       "      <th>1</th>\n",
       "      <td>Shingeki no Kyojin</td>\n",
       "      <td>8.52</td>\n",
       "      <td>2</td>\n",
       "      <td>3136959</td>\n",
       "      <td>TV</td>\n",
       "      <td>25.0</td>\n",
       "      <td>Funimation</td>\n",
       "      <td>Wit Studio</td>\n",
       "      <td>Action,Drama,Fantasy,Mystery</td>\n",
       "      <td>Shounen</td>\n",
       "      <td>R - 17+ (violence &amp; profanity)</td>\n",
       "      <td>1</td>\n",
       "      <td>1</td>\n",
       "      <td>0</td>\n",
       "    </tr>\n",
       "    <tr>\n",
       "      <th>2</th>\n",
       "      <td>Fullmetal Alchemist: Brotherhood</td>\n",
       "      <td>9.16</td>\n",
       "      <td>3</td>\n",
       "      <td>2674846</td>\n",
       "      <td>TV</td>\n",
       "      <td>64.0</td>\n",
       "      <td>Funimation,Aniplex of America</td>\n",
       "      <td>Bones</td>\n",
       "      <td>Action,Adventure,Comedy,Drama,Fantasy</td>\n",
       "      <td>Shounen</td>\n",
       "      <td>R - 17+ (violence &amp; profanity)</td>\n",
       "      <td>1</td>\n",
       "      <td>1</td>\n",
       "      <td>0</td>\n",
       "    </tr>\n",
       "    <tr>\n",
       "      <th>3</th>\n",
       "      <td>Sword Art Online</td>\n",
       "      <td>7.21</td>\n",
       "      <td>4</td>\n",
       "      <td>2583874</td>\n",
       "      <td>TV</td>\n",
       "      <td>25.0</td>\n",
       "      <td>Aniplex of America</td>\n",
       "      <td>A-1 Pictures</td>\n",
       "      <td>Action,Adventure,Fantasy,Romance</td>\n",
       "      <td>NaN</td>\n",
       "      <td>PG-13 - Teens 13 or older</td>\n",
       "      <td>0</td>\n",
       "      <td>0</td>\n",
       "      <td>0</td>\n",
       "    </tr>\n",
       "    <tr>\n",
       "      <th>4</th>\n",
       "      <td>One Punch Man</td>\n",
       "      <td>8.52</td>\n",
       "      <td>5</td>\n",
       "      <td>2577610</td>\n",
       "      <td>TV</td>\n",
       "      <td>12.0</td>\n",
       "      <td>VIZ Media</td>\n",
       "      <td>Madhouse</td>\n",
       "      <td>Action,Comedy,Sci-Fi,Supernatural</td>\n",
       "      <td>NaN</td>\n",
       "      <td>R - 17+ (violence &amp; profanity)</td>\n",
       "      <td>1</td>\n",
       "      <td>0</td>\n",
       "      <td>0</td>\n",
       "    </tr>\n",
       "  </tbody>\n",
       "</table>\n",
       "</div>"
      ],
      "text/plain": [
       "                  Name of the anime  Rating  Ranking  Followers Type  \\\n",
       "0                        Death Note    8.63        1    3150451   TV   \n",
       "1                Shingeki no Kyojin    8.52        2    3136959   TV   \n",
       "2  Fullmetal Alchemist: Brotherhood    9.16        3    2674846   TV   \n",
       "3                  Sword Art Online    7.21        4    2583874   TV   \n",
       "4                     One Punch Man    8.52        5    2577610   TV   \n",
       "\n",
       "   Episodes                        License         Study  \\\n",
       "0      37.0                      VIZ Media      Madhouse   \n",
       "1      25.0                     Funimation    Wit Studio   \n",
       "2      64.0  Funimation,Aniplex of America         Bones   \n",
       "3      25.0             Aniplex of America  A-1 Pictures   \n",
       "4      12.0                      VIZ Media      Madhouse   \n",
       "\n",
       "                                   Genre Demographics  \\\n",
       "0          Mystery,Supernatural,Suspense      Shounen   \n",
       "1           Action,Drama,Fantasy,Mystery      Shounen   \n",
       "2  Action,Adventure,Comedy,Drama,Fantasy      Shounen   \n",
       "3       Action,Adventure,Fantasy,Romance          NaN   \n",
       "4      Action,Comedy,Sci-Fi,Supernatural          NaN   \n",
       "\n",
       "                              Age  Adult  For man  For woman  \n",
       "0  R - 17+ (violence & profanity)      1        1          0  \n",
       "1  R - 17+ (violence & profanity)      1        1          0  \n",
       "2  R - 17+ (violence & profanity)      1        1          0  \n",
       "3       PG-13 - Teens 13 or older      0        0          0  \n",
       "4  R - 17+ (violence & profanity)      1        0          0  "
      ]
     },
     "execution_count": 122,
     "metadata": {},
     "output_type": "execute_result"
    }
   ],
   "source": [
    "import pandas as pd\n",
    "import seaborn as sns\n",
    "import matplotlib.pyplot as plt\n",
    "import scipy.stats\n",
    "import statsmodels.api as sm\n",
    "import numpy as np\n",
    "\n",
    "anime.head()"
   ]
  },
  {
   "cell_type": "markdown",
   "id": "b7a034f7",
   "metadata": {},
   "source": [
    "Посмотрим есть ли линейная регрессия среди значений рейтинга, подписчиков и числа эпизодов"
   ]
  },
  {
   "cell_type": "code",
   "execution_count": 123,
   "id": "7efad407",
   "metadata": {},
   "outputs": [],
   "source": [
    "animecor = anime[['Rating','Followers', 'Episodes']]"
   ]
  },
  {
   "cell_type": "code",
   "execution_count": 124,
   "id": "a0661b09",
   "metadata": {},
   "outputs": [
    {
     "data": {
      "text/html": [
       "<div>\n",
       "<style scoped>\n",
       "    .dataframe tbody tr th:only-of-type {\n",
       "        vertical-align: middle;\n",
       "    }\n",
       "\n",
       "    .dataframe tbody tr th {\n",
       "        vertical-align: top;\n",
       "    }\n",
       "\n",
       "    .dataframe thead th {\n",
       "        text-align: right;\n",
       "    }\n",
       "</style>\n",
       "<table border=\"1\" class=\"dataframe\">\n",
       "  <thead>\n",
       "    <tr style=\"text-align: right;\">\n",
       "      <th></th>\n",
       "      <th>Rating</th>\n",
       "      <th>Followers</th>\n",
       "      <th>Episodes</th>\n",
       "    </tr>\n",
       "  </thead>\n",
       "  <tbody>\n",
       "    <tr>\n",
       "      <th>0</th>\n",
       "      <td>8.63</td>\n",
       "      <td>3150451</td>\n",
       "      <td>37.0</td>\n",
       "    </tr>\n",
       "    <tr>\n",
       "      <th>1</th>\n",
       "      <td>8.52</td>\n",
       "      <td>3136959</td>\n",
       "      <td>25.0</td>\n",
       "    </tr>\n",
       "    <tr>\n",
       "      <th>2</th>\n",
       "      <td>9.16</td>\n",
       "      <td>2674846</td>\n",
       "      <td>64.0</td>\n",
       "    </tr>\n",
       "    <tr>\n",
       "      <th>3</th>\n",
       "      <td>7.21</td>\n",
       "      <td>2583874</td>\n",
       "      <td>25.0</td>\n",
       "    </tr>\n",
       "    <tr>\n",
       "      <th>4</th>\n",
       "      <td>8.52</td>\n",
       "      <td>2577610</td>\n",
       "      <td>12.0</td>\n",
       "    </tr>\n",
       "  </tbody>\n",
       "</table>\n",
       "</div>"
      ],
      "text/plain": [
       "   Rating  Followers  Episodes\n",
       "0    8.63    3150451      37.0\n",
       "1    8.52    3136959      25.0\n",
       "2    9.16    2674846      64.0\n",
       "3    7.21    2583874      25.0\n",
       "4    8.52    2577610      12.0"
      ]
     },
     "execution_count": 124,
     "metadata": {},
     "output_type": "execute_result"
    }
   ],
   "source": [
    "animecor.head()"
   ]
  },
  {
   "cell_type": "code",
   "execution_count": 125,
   "id": "1269f123",
   "metadata": {},
   "outputs": [
    {
     "data": {
      "text/plain": [
       "<seaborn.axisgrid.PairGrid at 0x27bede7beb0>"
      ]
     },
     "execution_count": 125,
     "metadata": {},
     "output_type": "execute_result"
    },
    {
     "data": {
      "image/png": "[encoded data removed]",
      "text/plain": [
       "<Figure size 750x750 with 12 Axes>"
      ]
     },
     "metadata": {},
     "output_type": "display_data"
    }
   ],
   "source": [
    "sns.pairplot(animecor)"
   ]
  },
  {
   "cell_type": "markdown",
   "id": "cde1355d",
   "metadata": {},
   "source": [
    "# В случае моих данных линейной регрессии не наблюдается, но мы проведем несколько операций, поскольку это часть задания"
   ]
  },
  {
   "cell_type": "code",
   "execution_count": 126,
   "id": "fe41a8da",
   "metadata": {},
   "outputs": [
    {
     "name": "stdout",
     "output_type": "stream",
     "text": [
      "LinregressResult(slope=180672.91790296757, intercept=-1039436.548871422, rvalue=0.3468249272418292, pvalue=4.9318585040958744e-57, stderr=10988.787980316307, intercept_stderr=82341.20917391464)\n"
     ]
    }
   ],
   "source": [
    "x = animecor['Rating']\n",
    "y = animecor['Followers']\n",
    "\n",
    "res = scipy.stats.linregress(x, y)\n",
    "print(res)"
   ]
  },
  {
   "cell_type": "code",
   "execution_count": 127,
   "id": "277c1063",
   "metadata": {},
   "outputs": [
    {
     "name": "stdout",
     "output_type": "stream",
     "text": [
      "0.1202875301563001\n"
     ]
    }
   ],
   "source": [
    "r_sq = res.rvalue **2\n",
    "print(r_sq)"
   ]
  },
  {
   "cell_type": "code",
   "execution_count": 129,
   "id": "6b4edc3b",
   "metadata": {},
   "outputs": [
    {
     "ename": "AttributeError",
     "evalue": "'LinregressResult' object has no attribute 'intercert'",
     "output_type": "error",
     "traceback": [
      "\u001b[1;31m---------------------------------------------------------------------------\u001b[0m",
      "\u001b[1;31mAttributeError\u001b[0m                            Traceback (most recent call last)",
      "\u001b[1;32m~\\AppData\\Local\\Temp\\ipykernel_13024\\663291765.py\u001b[0m in \u001b[0;36m<module>\u001b[1;34m\u001b[0m\n\u001b[0;32m      1\u001b[0m \u001b[0mplt\u001b[0m\u001b[1;33m.\u001b[0m\u001b[0mplot\u001b[0m\u001b[1;33m(\u001b[0m\u001b[0mx\u001b[0m\u001b[1;33m,\u001b[0m \u001b[0my\u001b[0m\u001b[1;33m)\u001b[0m\u001b[1;33m\u001b[0m\u001b[1;33m\u001b[0m\u001b[0m\n\u001b[1;32m----> 2\u001b[1;33m \u001b[0mplt\u001b[0m\u001b[1;33m.\u001b[0m\u001b[0mplot\u001b[0m\u001b[1;33m(\u001b[0m\u001b[0mx\u001b[0m\u001b[1;33m,\u001b[0m \u001b[0mres\u001b[0m\u001b[1;33m.\u001b[0m\u001b[0mintercert\u001b[0m \u001b[1;33m+\u001b[0m \u001b[0mres\u001b[0m\u001b[1;33m.\u001b[0m\u001b[0mslope\u001b[0m \u001b[1;33m*\u001b[0m \u001b[0mX\u001b[0m\u001b[1;33m)\u001b[0m\u001b[1;33m\u001b[0m\u001b[1;33m\u001b[0m\u001b[0m\n\u001b[0m\u001b[0;32m      3\u001b[0m \u001b[0mplt\u001b[0m\u001b[1;33m.\u001b[0m\u001b[0mlegend\u001b[0m\u001b[1;33m(\u001b[0m\u001b[1;33m)\u001b[0m\u001b[1;33m\u001b[0m\u001b[1;33m\u001b[0m\u001b[0m\n\u001b[0;32m      4\u001b[0m \u001b[0mplt\u001b[0m\u001b[1;33m.\u001b[0m\u001b[0mshow\u001b[0m\u001b[1;33m(\u001b[0m\u001b[1;33m)\u001b[0m\u001b[1;33m\u001b[0m\u001b[1;33m\u001b[0m\u001b[0m\n",
      "\u001b[1;31mAttributeError\u001b[0m: 'LinregressResult' object has no attribute 'intercert'"
     ]
    },
    {
     "data": {
      "image/png": "[encoded data removed]",
      "text/plain": [
       "<Figure size 640x480 with 1 Axes>"
      ]
     },
     "metadata": {},
     "output_type": "display_data"
    }
   ],
   "source": [
    "plt.plot(x, y)\n",
    "plt.plot(x, res.intercert + res.slope * X)\n",
    "plt.legend()\n",
    "plt.show()"
   ]
  },
  {
   "cell_type": "code",
   "execution_count": 144,
   "id": "113fba32",
   "metadata": {},
   "outputs": [],
   "source": [
    "import pandas as pd\n",
    "import statsmodels.api as sm\n",
    "import numpy as np"
   ]
  },
  {
   "cell_type": "code",
   "execution_count": 145,
   "id": "8555bd8c",
   "metadata": {},
   "outputs": [],
   "source": [
    "animecor = anime[['Rating','Followers', 'Episodes']]\n"
   ]
  },
  {
   "cell_type": "code",
   "execution_count": 146,
   "id": "d72cac00",
   "metadata": {},
   "outputs": [
    {
     "name": "stdout",
     "output_type": "stream",
     "text": [
      "Optimization terminated successfully.\n",
      "         Current function value: 0.654950\n",
      "         Iterations 4\n",
      "                           Logit Regression Results                           \n",
      "==============================================================================\n",
      "Dep. Variable:                For man   No. Observations:                 1979\n",
      "Model:                          Logit   Df Residuals:                     1977\n",
      "Method:                           MLE   Df Model:                            1\n",
      "Date:                Tue, 13 Dec 2022   Pseudo R-squ.:               0.0001033\n",
      "Time:                        22:51:46   Log-Likelihood:                -1296.1\n",
      "converged:                       True   LL-Null:                       -1296.3\n",
      "Covariance Type:            nonrobust   LLR p-value:                    0.6049\n",
      "==============================================================================\n",
      "                 coef    std err          z      P>|z|      [0.025      0.975]\n",
      "------------------------------------------------------------------------------\n",
      "const         -0.5797      0.057    -10.222      0.000      -0.691      -0.469\n",
      "Adult          0.0519      0.100      0.518      0.605      -0.145       0.248\n",
      "==============================================================================\n"
     ]
    }
   ],
   "source": [
    "X = sm.add_constant(anime['Adult'])\n",
    "Y = anime['For man']\n",
    "\n",
    "logit = sm.Logit(Y, X)\n",
    "results = logit.fit()\n",
    "print(results.summary())"
   ]
  },
  {
   "cell_type": "code",
   "execution_count": 147,
   "id": "e22ade03",
   "metadata": {},
   "outputs": [
    {
     "data": {
      "text/plain": [
       "0.5600663612733179"
      ]
     },
     "execution_count": 147,
     "metadata": {},
     "output_type": "execute_result"
    }
   ],
   "source": [
    "np.exp(-0.5797)"
   ]
  },
  {
   "cell_type": "code",
   "execution_count": 148,
   "id": "63911bff",
   "metadata": {},
   "outputs": [
    {
     "data": {
      "text/plain": [
       "1.0532704102058166"
      ]
     },
     "execution_count": 148,
     "metadata": {},
     "output_type": "execute_result"
    }
   ],
   "source": [
    "np.exp(0.0519)"
   ]
  },
  {
   "cell_type": "code",
   "execution_count": 151,
   "id": "586b0e3a",
   "metadata": {},
   "outputs": [
    {
     "data": {
      "text/html": [
       "<div>\n",
       "<style scoped>\n",
       "    .dataframe tbody tr th:only-of-type {\n",
       "        vertical-align: middle;\n",
       "    }\n",
       "\n",
       "    .dataframe tbody tr th {\n",
       "        vertical-align: top;\n",
       "    }\n",
       "\n",
       "    .dataframe thead th {\n",
       "        text-align: right;\n",
       "    }\n",
       "</style>\n",
       "<table border=\"1\" class=\"dataframe\">\n",
       "  <thead>\n",
       "    <tr style=\"text-align: right;\">\n",
       "      <th>Adult</th>\n",
       "      <th>0</th>\n",
       "      <th>1</th>\n",
       "    </tr>\n",
       "    <tr>\n",
       "      <th>For man</th>\n",
       "      <th></th>\n",
       "      <th></th>\n",
       "    </tr>\n",
       "  </thead>\n",
       "  <tbody>\n",
       "    <tr>\n",
       "      <th>0</th>\n",
       "      <td>866</td>\n",
       "      <td>395</td>\n",
       "    </tr>\n",
       "    <tr>\n",
       "      <th>1</th>\n",
       "      <td>485</td>\n",
       "      <td>233</td>\n",
       "    </tr>\n",
       "  </tbody>\n",
       "</table>\n",
       "</div>"
      ],
      "text/plain": [
       "Adult      0    1\n",
       "For man          \n",
       "0        866  395\n",
       "1        485  233"
      ]
     },
     "execution_count": 151,
     "metadata": {},
     "output_type": "execute_result"
    }
   ],
   "source": [
    "anime.groupby('For man')['Adult'].value_counts().unstack()"
   ]
  },
  {
   "cell_type": "code",
   "execution_count": 157,
   "id": "adf75a17",
   "metadata": {},
   "outputs": [
    {
     "name": "stdout",
     "output_type": "stream",
     "text": [
      "0.5288683602771364\n",
      "-0.63701572444825\n"
     ]
    }
   ],
   "source": [
    "p_1_forman = 458 / (458 + 866)\n",
    "p_0_forman = 1 - p_1_forman\n",
    "odds_1_forman = p_1_forman / p_0_forman\n",
    "print (odds_1_forman)\n",
    "print (np.log(odds_1_forman))"
   ]
  },
  {
   "cell_type": "code",
   "execution_count": null,
   "id": "42ecef88",
   "metadata": {},
   "outputs": [],
   "source": [
    "X = sm.add_constant(anime['Adult'])\n",
    "Y = anime['For man']\n",
    "\n",
    "logit = sm.Logit(Y, X)\n",
    "results = logit.fit()\n",
    "print(results.summary())"
   ]
  },
  {
   "cell_type": "markdown",
   "id": "baea89c8",
   "metadata": {},
   "source": [
    "# Немного выводов:\n",
    "- Фанаты аниме преподчитают многосерийные продукты, нежели полнометражные метры\n",
    "- J.C.Staff - студия хитмейкер, на ее счету множество проектов входящих в топы у зрителей\n",
    "- Наиболее распространенное количество серий в аниме - сериале - 12 (за сезон)\n",
    "- Аниме для взрослых преимущественно рассчитано на мужскую аудиторию\n",
    "- Самый популярный жанр у фанатов аниме - сенен\n",
    "- Любимые жанры для мальчиков от 12 до 18 лет(сенен) и для девочек того же возраста (седзе) совпадают - комедия и романтика, они смотрят похожие тайтлы\n",
    "- Взрослая аудитория более требовательна к проектам и готова ставить негативные оценки\n",
    "\n",
    "\n"
   ]
  },
  {
   "cell_type": "code",
   "execution_count": null,
   "id": "cb9791b5",
   "metadata": {},
   "outputs": [],
   "source": []
  }
 ],
 "metadata": {
  "kernelspec": {
   "display_name": "Python 3 (ipykernel)",
   "language": "python",
   "name": "python3"
  },
  "language_info": {
   "codemirror_mode": {
    "name": "ipython",
    "version": 3
   },
   "file_extension": ".py",
   "mimetype": "text/x-python",
   "name": "python",
   "nbconvert_exporter": "python",
   "pygments_lexer": "ipython3",
   "version": "3.9.13"
  }
 },
 "nbformat": 4,
 "nbformat_minor": 5
}
